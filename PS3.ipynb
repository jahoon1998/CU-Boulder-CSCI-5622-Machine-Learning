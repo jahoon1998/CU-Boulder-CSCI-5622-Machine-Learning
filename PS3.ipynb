{
 "cells": [
  {
   "cell_type": "markdown",
   "metadata": {},
   "source": [
    "# Problem Set 3 - Linear Regression, Logistic Regression, and Naive Bayes\n",
    "## CSCI 5622 - Spring 2023\n",
    "***\n",
    "**Name**: Jahoon Koo\n",
    "***\n",
    "\n",
    "This assignment is due on Canvas by **11:59PM on March 8**.\n",
    "\n",
    "Submit only this Jupyter notebook to Canvas with the name format `PS3_<yourname>.ipynb`. Do not compress it using tar, rar, zip, etc.\n",
    "Your solutions to analysis questions should be done in Markdown directly below the associated question. You can add a write-up markdown cell if it wasn't provided.\n",
    "\n",
    "Remember that you are encouraged to discuss the problems with your classmates and instructors, \n",
    "but **you must write all code and solutions on your own**, and list any people or sources consulted.\n",
    "The only exception to this rule is that you may copy code directly from your own solution to previous homeworks.\n",
    "***"
   ]
  },
  {
   "cell_type": "code",
   "execution_count": 1,
   "metadata": {},
   "outputs": [],
   "source": [
    "import numpy as np\n",
    "import matplotlib.pyplot as plt\n",
    "import data\n",
    "%matplotlib inline"
   ]
  },
  {
   "cell_type": "markdown",
   "metadata": {},
   "source": [
    "## Problem 1: Linear Regression (28 points)\n",
    "For this problem we will be working with data on the compressive strength of concrete. The compressive strength of this ubiquitous material is a function of its age and ingredients. We will implement linear regression models to predict the compressive strength (in megapascals) from the following features:\n",
    "\n",
    "| Feature | About |\n",
    "| --- | --- |\n",
    "| Cement | component 1, kg in 1 m^3 mixture  |\n",
    "| Blast Furnace Slag | component 2, kg in 1 m^3 mixture  |\n",
    "| Fly Ash | component 3, kg in 1 m^3 mixture  |\n",
    "| Water | component 4, kg in 1 m^3 mixture  |\n",
    "| Superplasticizer | component 5, kg in 1 m^3 mixture |\n",
    "| Coarse Aggregate | component 6, kg in 1 m^3 mixture |\n",
    "| Fine Aggregate | component 7, kg in 1 m^3 mixture |\n",
    "| Age | component 8, days  |\n",
    "\n",
    "First, we want to scale the strengths to the interval $[0, 1]$ using `MinMaxScaler`. Given an features matrix $X$, the scaling works as follows:\n",
    "\\begin{align}\n",
    "    X  \\leftarrow \\frac{X-min(X)}{max(X) - min(X)}\n",
    "\\end{align}\n",
    "\n",
    "this is performed as a column-wise operation (column = feature).\n",
    "\n",
    "As usual, we compute $min(X)$ and $max(X)$ on the training set."
   ]
  },
  {
   "cell_type": "markdown",
   "metadata": {},
   "source": [
    "- 1.1.a **[2 points]** Complete `MinMaxScaler.fit` to compute and save the feature-wise min and max.\n",
    "- 1.1.b **[1 points]** Complete `MinMaxScaler.transform` to apply the min-max scaling using the computed statistics."
   ]
  },
  {
   "cell_type": "code",
   "execution_count": 2,
   "metadata": {
    "deletable": false,
    "nbgrader": {
     "cell_type": "code",
     "checksum": "f95170b62e227962ae68f3623c3845f5",
     "grade": true,
     "grade_id": "cell-3101685160e30d52",
     "locked": false,
     "points": 0,
     "schema_version": 3,
     "solution": true,
     "task": false
    }
   },
   "outputs": [],
   "source": [
    "class MinMaxScaler:\n",
    "\n",
    "    def __init__(self):\n",
    "        self.min = None\n",
    "        self.max = None\n",
    "\n",
    "    def fit(self, X):\n",
    "        \"\"\"\n",
    "        Compute and save the features min and max of shape (num_features,)\n",
    "        (you can also save them with shape (1, num_features))\n",
    "        :param X: array of shape (num_samples, num_features)\n",
    "        :return: fitted scaler\n",
    "        \"\"\"\n",
    "        # Workspace 1.1.a\n",
    "        #BEGIN \n",
    "        # code here\n",
    "        self.min = np.min(X, axis=0)\n",
    "        self.max = np.max(X, axis=0)\n",
    "        #END\n",
    "        return self\n",
    "\n",
    "    def transform(self, X):\n",
    "        \"\"\"\n",
    "        Transform the given samples using the precomputed min and max\n",
    "        :param X: np.array of shape (num_samples, num_features)\n",
    "        :return: MinMax scaled X, of shape (num_samples, num_features)\n",
    "        \"\"\"\n",
    "        # Workspace 1.1.b\n",
    "        #BEGIN \n",
    "        # code here\n",
    "        \n",
    "        X_scaled = (X - self.min) / (self.max - self.min)\n",
    "        return X_scaled\n",
    "        #END\n",
    "\n",
    "    def fit_transform(self, X):\n",
    "        \"\"\"\n",
    "        Fit using X and then transform it. Useful when we need to scale jsut once.\n",
    "        \"\"\"\n",
    "        self.fit(X)\n",
    "        return self.transform(X)"
   ]
  },
  {
   "cell_type": "code",
   "execution_count": 3,
   "metadata": {},
   "outputs": [
    {
     "name": "stderr",
     "output_type": "stream",
     "text": [
      "...\n",
      "----------------------------------------------------------------------\n",
      "Ran 3 tests in 0.005s\n",
      "\n",
      "OK\n"
     ]
    }
   ],
   "source": [
    "%run -i tests scaler"
   ]
  },
  {
   "cell_type": "code",
   "execution_count": 4,
   "metadata": {},
   "outputs": [
    {
     "data": {
      "image/png": "[encoded data removed]",
      "text/plain": [
       "<Figure size 432x288 with 1 Axes>"
      ]
     },
     "metadata": {
      "needs_background": "light"
     },
     "output_type": "display_data"
    }
   ],
   "source": [
    "concrete_data = data.Concrete()\n",
    "minmax_scaler = MinMaxScaler()\n",
    "# MinMax works on 2-d arrays, so we just need to parse the prices as a single column/feature\n",
    "# and then squeeze it back to 1-d array\n",
    "concrete_data.y_train = minmax_scaler.fit_transform(concrete_data.y_train[:, None])[:, 0]\n",
    "concrete_data.y_test = minmax_scaler.transform(concrete_data.y_test[:, None])[:, 0]\n",
    "plt.hist(concrete_data.y_train, bins=40)\n",
    "plt.title(\"Scaled concrete strength distribution\")\n",
    "plt.show()"
   ]
  },
  {
   "cell_type": "markdown",
   "metadata": {},
   "source": [
    "We have seen that Ridge regression adds a regularization term to the least square using the L2 norm.\n",
    "Ridge regression is part of scikit-learn package ([read more](https://scikit-learn.org/stable/modules/generated/sklearn.linear_model.Ridge.html)), but we will be building our own implementation.\n",
    "You can test your implementation against scikit's.\n",
    "\n",
    "The objective of Ridge regression is to minimize:\n",
    "\n",
    "\\begin{align}\n",
    "\\frac{1}{N}\\sum_{i=1}^{N} ||y_i-\\mathbf{w}^T \\mathbf{x_i}-\\mathbf{b}||^2 + \\alpha||\\mathbf{w}||^2\n",
    "\\end{align}\n",
    "\n",
    "where $\\mathbf{w}$ denotes the coefficients vector for the linear regression model,\n",
    "$\\mathbf{b}$ the intercept vector, $\\alpha$ the trade-off regularization parameter, and $N$ the number of samples.\n",
    "\n",
    "Luckily for us, Ridge regression admits a closed form solution for $\\mathbf w$ and $\\mathbf{b}$.\n",
    "\n",
    "Let $X$ be the $N\\times d$ matrix whose rows are the training samples $(\\mathbf{x_i})_{i\\leq N}$ and $Y=(y_i)_{i\\leq N}$ the target values.\n",
    "\n",
    "First, we start by centering the features (columns of X) by subtracting the mean of the column to get centered matrix $\\tilde{X}$. Then the solution for the minimization is (trust me):\n",
    "\n",
    "\\begin{align}\n",
    "&\\mathbf{w^*} = (\\tilde{X}^T\\tilde{X}+ \\alpha I)^{-1}\\tilde{X}^TY \\\\\n",
    "&\\mathbf{b^*} = \\frac{1}{N} \\sum_{i}^{i=N} (y_i - \\mathbf{w^*}^T \\mathbf{x_i})\n",
    "\\end{align}\n",
    "\n",
    "Note that:\n",
    "- $\\mathbf{w}^*$ and $\\mathbf{b}^*$ are the optimal weights and intercepts, respectively.\n",
    "- The samples in $b^*$ are not centered.\n",
    "- The predicted targets would be $\\hat{y}_i = \\mathbf{w^*}^T \\mathbf{x_i}+\\mathbf{b^*} $\n",
    "- $\\tilde{X}$ is only needed in the `fit` method when we compute $\\mathbf{w^*}$ and $\\mathbf{b^*}$\n",
    "\n",
    "A common practice is to scale or normalize (usually normalize) the features before fitting the model. It allows a _fair_ treatment of different features.\n",
    "You are allowed to use scikit's `StandardScaler` to do the normalization (yes, a thing called scaler is normalizing. Don't @ me, @ sklearn). Do not forget to run the same transformation on the test data before running the prediction.\n",
    "\n",
    "- 1.2 **[5 points]** Complete the `fit` and `evaluate` methods following the provided descriptions."
   ]
  },
  {
   "cell_type": "code",
   "execution_count": 5,
   "metadata": {
    "deletable": false,
    "nbgrader": {
     "cell_type": "code",
     "checksum": "d17fe91961b5651a0015541a30d32f8d",
     "grade": true,
     "grade_id": "cell-45b38a42c67dd0a2",
     "locked": false,
     "points": 0,
     "schema_version": 3,
     "solution": true,
     "task": false
    }
   },
   "outputs": [],
   "source": [
    "from sklearn import linear_model\n",
    "from sklearn.preprocessing import StandardScaler\n",
    "\n",
    "class Ridge(object):\n",
    "\n",
    "    def __init__(self, alpha, normalize=False):\n",
    "        \"\"\"\n",
    "        :param alpha: regularization parameter\n",
    "        :param normalize: boolean whether to normalize the features or not\n",
    "        \"\"\"\n",
    "\n",
    "        self.alpha = alpha  # our tuning / regularization parameter\n",
    "        self.coefficients = None  # our weights vector, w (in formulae above)\n",
    "        self.intercept = None  # our intercept parameter, b (in formulae above)\n",
    "        self.normalize = normalize  # boolean whether to normalize the features or not\n",
    "        self.scaler = StandardScaler()  # method by which to normalize the features (depends on self.normalize)\n",
    "\n",
    "    def fit(self, X, y):\n",
    "        \"\"\"\n",
    "        Fit the ridge model, train it using the provided data\n",
    "        Calculate the number of non-zero coefficients in the model weights and the norm using np.linalg.norm\n",
    "        :param X: training features (num_samples, num_features)\n",
    "        :param y: target values (num_samples)\n",
    "        :return: tuple (number of non-zeros coefficients of w, norm of w)\n",
    "        \"\"\"\n",
    "        num_nonzero_coefs, coef_norm = 0, 0\n",
    "        \n",
    "        # Normalize data with the scaler, if required\n",
    "        if self.normalize:\n",
    "            X = self.scaler.fit_transform(X)\n",
    "        # Center the data\n",
    "        X_center = X - np.mean(X, 0)\n",
    "        \n",
    "        # Workspace 1.2.a\n",
    "        # TO DO: compute w and b and store them in self.coef_ and self.intercept\n",
    "        #BEGIN \n",
    "        # code here\n",
    "        n_samples, n_features = X.shape \n",
    "        \n",
    "        I = np.eye(n_features, dtype=float)\n",
    "        \n",
    "        self.coefficients = np.dot(np.dot(np.linalg.inv(np.dot(X_center.T, X_center) + self.alpha * I), X_center.T), y)\n",
    "        self.intercept = np.mean(y) - np.dot(self.coefficients.T, np.mean(X, 0))\n",
    "\n",
    "        \n",
    "        num_nonzero_coefs = np.count_nonzero(self.coefficients)\n",
    "        coef_norm = np.linalg.norm(self.coefficients, ord=2)\n",
    "        #END\n",
    "        return num_nonzero_coefs, coef_norm\n",
    "\n",
    "    def evaluate(self, X, y):\n",
    "        \"\"\"\n",
    "        Compute Root mean square error (RMSE) between the predicted values and the actual values of the test data\n",
    "        :param X: instances array of shape (num_samples, num_features)\n",
    "        :param y: the true targets, of shape (num_samples)\n",
    "        :return: RMSE\n",
    "        \"\"\"\n",
    "\n",
    "        # Workspace 1.2.b\n",
    "        # TO DO: predict based on the test features and return the root mean squared error\n",
    "        #BEGIN \n",
    "        # code here\n",
    "        self.fit(X, y)\n",
    "        \n",
    "        if self.normalize:\n",
    "            X = self.scaler.fit_transform(X)\n",
    "        y_pred = np.dot(self.coefficients, X.T) + self.intercept\n",
    "        root_mean_squared_error = np.sqrt(np.mean((y - y_pred)**2))\n",
    "        #END\n",
    "        return root_mean_squared_error"
   ]
  },
  {
   "cell_type": "code",
   "execution_count": 6,
   "metadata": {},
   "outputs": [
    {
     "name": "stderr",
     "output_type": "stream",
     "text": [
      "....\n",
      "----------------------------------------------------------------------\n",
      "Ran 4 tests in 0.030s\n",
      "\n",
      "OK\n"
     ]
    },
    {
     "data": {
      "text/plain": [
       "<Figure size 432x288 with 0 Axes>"
      ]
     },
     "metadata": {},
     "output_type": "display_data"
    }
   ],
   "source": [
    "# Tests cells, do not remove\n",
    "# Should run without errors\n",
    "%run -i tests ridge"
   ]
  },
  {
   "cell_type": "markdown",
   "metadata": {},
   "source": [
    "- 1.3 **[3 points]** Produce 3 plots as a function of $\\log_{10}(\\alpha)$ (logarithmic scale) that compare normalized versus non-normalized Ridge:\n",
    "    - The number of non-zero coefficients of $\\mathbf w$\n",
    "    - The norm of $\\mathbf w$\n",
    "    - The test RMSE (Root Mean Squared Error)\n",
    "\n",
    "Use the values of $\\alpha$ provided in the cell. What is the best `alpha` for each version of the two models?\n",
    "\n",
    "To produce multiple plots in the same figure, see the examples [here](https://matplotlib.org/devdocs/gallery/subplots_axes_and_figures/subplots_demo.html)"
   ]
  },
  {
   "cell_type": "code",
   "execution_count": 7,
   "metadata": {
    "deletable": false,
    "nbgrader": {
     "cell_type": "code",
     "checksum": "625a9cea949e7e645360024dd28c9f29",
     "grade": true,
     "grade_id": "cell-614b154949bf123b",
     "locked": false,
     "points": 0,
     "schema_version": 3,
     "solution": true,
     "task": false
    }
   },
   "outputs": [
    {
     "data": {
      "text/plain": [
       "<matplotlib.legend.Legend at 0x1a3db1b3400>"
      ]
     },
     "execution_count": 7,
     "metadata": {},
     "output_type": "execute_result"
    },
    {
     "data": {
      "image/png": "[encoded data removed]",
      "text/plain": [
       "<Figure size 1440x720 with 3 Axes>"
      ]
     },
     "metadata": {
      "needs_background": "light"
     },
     "output_type": "display_data"
    }
   ],
   "source": [
    "alphas = [0.01, 0.05, 0.1, 0.2, 0.3, 1.0, 10.0, 100.0, 300.0, 500.0, 1e3, 1.5e3, 2e3, 5e3, 1e4]\n",
    "# Workspace 1.3\n",
    "#BEGIN \n",
    "# code here\n",
    "norm_num_nonzero_coefs = []\n",
    "norm_coef_norms = []\n",
    "norm_rmses = []\n",
    "\n",
    "best_rmse_norm = 10000\n",
    "best_rmse_non_norm = 10000\n",
    "\n",
    "best_alpha_norm = -1\n",
    "best_alpha_non_norm = -1\n",
    "\n",
    "for alpha in alphas:\n",
    "    norm_ridge = Ridge(alpha=alpha, normalize=True)\n",
    "    num_nonzero_coefs, coef_norm = norm_ridge.fit(concrete_data.X_train, concrete_data.y_train)\n",
    "    norm_num_nonzero_coefs.append(num_nonzero_coefs)\n",
    "    norm_coef_norms.append(coef_norm)\n",
    "    norm_rmse = norm_ridge.evaluate(concrete_data.X_test, concrete_data.y_test)\n",
    "    \n",
    "    if norm_rmse <= best_rmse_norm:\n",
    "        best_rmse_norm = norm_rmse\n",
    "        best_alpha_norm = alpha\n",
    "        \n",
    "    norm_rmses.append(norm_rmse)\n",
    "\n",
    "\n",
    "non_norm_num_nonzero_coefs = []\n",
    "non_norm_coef_norms = []\n",
    "non_norm_rmses = []\n",
    "\n",
    "best_rmse_non_norm = 10000\n",
    "best_alpha_non_norm = -1\n",
    "\n",
    "for alpha in alphas: \n",
    "    non_norm_ridge = Ridge(alpha=alpha, normalize=False)\n",
    "    num_nonzero_coefs, coef_norm = non_norm_ridge.fit(concrete_data.X_train, concrete_data.y_train)\n",
    "    non_norm_num_nonzero_coefs.append(num_nonzero_coefs)\n",
    "    non_norm_coef_norms.append(coef_norm)\n",
    "    non_norm_rmse = non_norm_ridge.evaluate(concrete_data.X_test, concrete_data.y_test)\n",
    "    \n",
    "    if non_norm_rmse <= best_rmse_non_norm:\n",
    "        best_rmse_non_norm = non_norm_rmse\n",
    "        best_alpha_non_norm = alpha\n",
    "        \n",
    "    non_norm_rmses.append(non_norm_rmse)\n",
    "\n",
    "\n",
    "plt.figure(figsize=(20, 10))\n",
    "\n",
    "plt.subplot(1, 5, 1)    \n",
    "plt.plot(np.log10(alphas), norm_num_nonzero_coefs, label=\"normalized Ridge\")\n",
    "plt.plot(np.log10(alphas), non_norm_num_nonzero_coefs, label=\"non-normalized Ridge\")\n",
    "plt.xlabel(\"log10(alpha)\")\n",
    "plt.ylabel(\"number of non-zero coefficients of w\")\n",
    "plt.title(\"normalized versus non-normalized Ridge on # of non-zero w\")\n",
    "plt.legend()\n",
    "\n",
    "plt.subplot(1, 5, 3)    \n",
    "plt.plot(np.log10(alphas), norm_coef_norms, label=\"normalized Ridge\")\n",
    "plt.plot(np.log10(alphas), non_norm_coef_norms, label=\"non-normalized Ridge\")\n",
    "plt.xlabel(\"log10(alpha)\")\n",
    "plt.ylabel(\"norm of w\")\n",
    "plt.title(\"normalized versus non-normalized Ridge on norm of w\")\n",
    "plt.legend()\n",
    "    \n",
    "plt.subplot(1, 5, 5)\n",
    "plt.plot(np.log10(alphas), norm_rmses, label=\"normalized Ridge\")\n",
    "plt.plot(np.log10(alphas), non_norm_rmses, label=\"non-normalized Ridge\")\n",
    "plt.xlabel(\"log10(alpha)\")\n",
    "plt.ylabel(\"RMSE\")\n",
    "plt.title(\"normalized versus non-normalized Ridge on RMSE\")\n",
    "plt.legend()\n",
    "#END"
   ]
  },
  {
   "cell_type": "code",
   "execution_count": 8,
   "metadata": {},
   "outputs": [
    {
     "name": "stdout",
     "output_type": "stream",
     "text": [
      "The best alpha for normalized Ridge is 0.01.\n",
      "The best alpha for non-normalized Ridge is 0.01.\n"
     ]
    }
   ],
   "source": [
    "print(\"The best alpha for normalized Ridge is {}.\".format(best_alpha_norm))\n",
    "print(\"The best alpha for non-normalized Ridge is {}.\".format(best_alpha_non_norm))"
   ]
  },
  {
   "cell_type": "markdown",
   "metadata": {
    "deletable": false,
    "nbgrader": {
     "cell_type": "markdown",
     "checksum": "448d37dcace07aa625d835da3633bee2",
     "grade": true,
     "grade_id": "cell-d440f8c6e3ea562b",
     "locked": false,
     "points": 0,
     "schema_version": 3,
     "solution": true,
     "task": false
    }
   },
   "source": [
    "#### Workspace 1.3b\n",
    "#BEGIN\n",
    "\n",
    "The best alpha for normalized Ridge is 0.01.\n",
    "The best alpha for non-normalized Ridge is 0.01.\n",
    "\n",
    "\n",
    "#END"
   ]
  },
  {
   "cell_type": "markdown",
   "metadata": {},
   "source": [
    "Based on the results from previous questions, you should have noticed that the interpretation of Ridge regression is not an easy task.\n",
    "One way to solve that is to use a regularization that adds _sparsity_ to $\\mathbf w$ and excludes less important features.\n",
    "That's what Lasso regression is about.\n",
    "\n",
    "Lasso uses $l_1$ norm in the regularization term and minimizes:\n",
    "\\begin{align}\n",
    "\\frac{1}{2N}\\sum_i ||y_i-\\mathbf{w}^T \\mathbf{x}_i -\\mathbf{b}||^2 + \\alpha||\\mathbf{w}||_1\n",
    "\\end{align}\n",
    "\n",
    "It is part of scikit package ([more details](http://scikit-learn.org/stable/modules/generated/sklearn.linear_model.Lasso.html))\n",
    "and you're free to compare your implementation to scikit's.\n",
    "\n",
    "Unfortunately, there is no closed form solution for Lasso. Instead, we have powerful algorithms to optimize it.\n",
    "We will be using lasso-path solver from scikit-learn for our implementation to find $\\mathbf w^*$\n",
    "([see more](https://scikit-learn.org/stable/modules/generated/sklearn.linear_model.lasso_path.html#sklearn.linear_model.lasso_path)).\n",
    "(Note that `lasso_path` takes a list of $\\alpha$ in the argument `alphas` and not a scalar.)\n",
    "\n",
    "Similar to Ridge's, $ \\mathbf w^*_{lasso} $ is computed by feeding the centered $\\tilde{X}$ to `lasso_path`.\n",
    "Once $\\mathbf w^*$ is found, $\\mathbf{b}^*$ has the same formula from Ridge regression.\n",
    "\n",
    "- 1.4 **[4 points]** Complete the Lasso class in the same way Ridge class was created. (You're allowed to use inheritance for a more concise code, as long as the class has `coefficients` and `intercept` attributes.)"
   ]
  },
  {
   "cell_type": "code",
   "execution_count": 9,
   "metadata": {
    "deletable": false,
    "nbgrader": {
     "cell_type": "code",
     "checksum": "18d2bc41d0e4d8ae992664a38947ee47",
     "grade": true,
     "grade_id": "cell-ae601a4efba49d1b",
     "locked": false,
     "points": 0,
     "schema_version": 3,
     "solution": true,
     "task": false
    }
   },
   "outputs": [],
   "source": [
    "from sklearn.linear_model import lasso_path\n",
    "\n",
    "\n",
    "class Lasso(object):\n",
    "    def __init__(self, alpha, normalize=False):\n",
    "        \"\"\"\n",
    "        :param alpha: regularization parameter\n",
    "        :param normalize: boolean whether to normalize the features or not\n",
    "        \"\"\"\n",
    "        self.alpha = alpha  # our tuning / regularization parameter\n",
    "        self.coefficients = None  # our weights vector, w (in formulae above)\n",
    "        self.intercept = None  # our intercept parameter, b (in formulae above)\n",
    "        self.normalize = normalize  # boolean whether to normalize the features or not\n",
    "        self.scaler = StandardScaler()  # method by which to normalize the features (depends on self.normalize)\n",
    "\n",
    "    def fit(self, X, y):\n",
    "        \"\"\"\n",
    "        Fit the lasso model, train it using the provided data\n",
    "        Calculate the number of non-zero coefficients in the model weights and the norm using np.linalg.norm\n",
    "        :param X: training features (num_samples, num_features)\n",
    "        :param y: target values (num_samples)\n",
    "        :return: tuple (number of non-zeros coefficients of w: scalar, norm of w: scalar)\n",
    "        \"\"\"\n",
    "        \n",
    "        num_nonzero_coefs, coef_norm = 0, 0\n",
    "        \n",
    "        # Normalize data with the scaler, if required\n",
    "        if self.normalize:\n",
    "            X = self.scaler.fit_transform(X)\n",
    "        # Center the data\n",
    "        X_center = X - np.mean(X, 0)\n",
    "        \n",
    "        # Workspace 1.4.a\n",
    "        # TO DO: compute w and b and store then in self.coef_ and self.intercept\n",
    "        # TO DO: call lasso_path on the centered features to compute self.coef_\n",
    "        #BEGIN \n",
    "        # code here\n",
    "        \n",
    "        # https://scikit-learn.org/stable/modules/generated/sklearn.linear_model.lasso_path.html#sklearn.linear_model.lasso_path\n",
    "        _, coefs, _ = lasso_path(X_center, y, alphas=[self.alpha])\n",
    "        self.coefficients = coefs[:, 0]\n",
    "        self.intercept = np.mean(y) - np.dot(self.coefficients.T, np.mean(X, 0))\n",
    "\n",
    "        num_nonzero_coefs = np.count_nonzero(self.coefficients)\n",
    "        coef_norm = np.linalg.norm(self.coefficients, ord=1)\n",
    "        \n",
    "        #END\n",
    "        return num_nonzero_coefs, coef_norm\n",
    "\n",
    "    def evaluate(self, X, y):\n",
    "        \"\"\"\n",
    "        Compute Root mean square error (RMSE) between the predicted values and the actual values  of the test data\n",
    "        :param X: features array, shape (num_samples, num_features)\n",
    "        :param y: true targets, shape (num_samples)\n",
    "        :return: RMSE\n",
    "        \"\"\"\n",
    "        root_mean_squared_error = 0\n",
    "        # Workspace 1.4.b\n",
    "        # TO DO: predict based on the test features and return the mean_squared_error\n",
    "        #BEGIN \n",
    "        self.fit(X, y)\n",
    "        \n",
    "        if self.normalize:\n",
    "            X = self.scaler.fit_transform(X)\n",
    "        y_pred = np.dot(self.coefficients, X.T) + self.intercept\n",
    "        root_mean_squared_error = np.sqrt(np.mean((y - y_pred)**2))\n",
    "        #END\n",
    "        return root_mean_squared_error"
   ]
  },
  {
   "cell_type": "code",
   "execution_count": 10,
   "metadata": {},
   "outputs": [
    {
     "name": "stderr",
     "output_type": "stream",
     "text": [
      "....\n",
      "----------------------------------------------------------------------\n",
      "Ran 4 tests in 0.009s\n",
      "\n",
      "OK\n"
     ]
    },
    {
     "data": {
      "text/plain": [
       "<Figure size 432x288 with 0 Axes>"
      ]
     },
     "metadata": {},
     "output_type": "display_data"
    }
   ],
   "source": [
    "# Tests cell, do not remove\n",
    "# Test non-normalized Lasso\n",
    "%run -i tests lasso"
   ]
  },
  {
   "cell_type": "markdown",
   "metadata": {},
   "source": [
    "- 1.5 **[3 points]** Produce 3 plots as a function of $\\log_{10}(\\alpha)$ (logarithmic scale) that compare normalized versus non-normalized Lasso:\n",
    "    - The number of non-zero coefficients of $\\mathbf w$\n",
    "    - The norm of $\\mathbf w$\n",
    "    - The test RMSE (Root Mean Squared Error)\n",
    "\n",
    "Use the values of $\\alpha$ provided in the cell. What is the best `alpha` for each version of the two models?\n",
    "\n",
    "Can you get all coefficients of $\\mathbf w$ to 0 for the non-normalized Lasso?\n"
   ]
  },
  {
   "cell_type": "code",
   "execution_count": 11,
   "metadata": {
    "deletable": false,
    "nbgrader": {
     "cell_type": "code",
     "checksum": "96f76ba69c9466a4d1740557463e8a6c",
     "grade": true,
     "grade_id": "cell-283125ed00efaa53",
     "locked": false,
     "points": 0,
     "schema_version": 3,
     "solution": true,
     "task": false
    }
   },
   "outputs": [
    {
     "data": {
      "text/plain": [
       "<matplotlib.legend.Legend at 0x1a3db274700>"
      ]
     },
     "execution_count": 11,
     "metadata": {},
     "output_type": "execute_result"
    },
    {
     "data": {
      "image/png": "[encoded data removed]",
      "text/plain": [
       "<Figure size 1440x720 with 3 Axes>"
      ]
     },
     "metadata": {
      "needs_background": "light"
     },
     "output_type": "display_data"
    }
   ],
   "source": [
    "alphas = [1e-3, 5e-3, 0.01, 0.05, 0.1, 0.2]\n",
    "# Workspace 1.5\n",
    "#BEGIN \n",
    "norm_num_nonzero_coefs = []\n",
    "norm_coef_norms = []\n",
    "norm_rmses = []\n",
    "\n",
    "best_rmse_norm = 10000\n",
    "best_rmse_non_norm = 10000\n",
    "\n",
    "best_alpha_norm = -1\n",
    "best_alpha_non_norm = -1\n",
    "\n",
    "for alpha in alphas:\n",
    "    norm_lasso = Lasso(alpha=alpha, normalize=True)\n",
    "    num_nonzero_coefs, coef_norm = norm_lasso.fit(concrete_data.X_train, concrete_data.y_train)\n",
    "    norm_num_nonzero_coefs.append(num_nonzero_coefs)\n",
    "    norm_coef_norms.append(coef_norm)\n",
    "    norm_rmse = norm_lasso.evaluate(concrete_data.X_test, concrete_data.y_test)\n",
    "    \n",
    "    if norm_rmse <= best_rmse_norm:\n",
    "        best_rmse_norm = norm_rmse\n",
    "        best_alpha_norm = alpha\n",
    "        \n",
    "    norm_rmses.append(norm_rmse)\n",
    "\n",
    "\n",
    "non_norm_num_nonzero_coefs = []\n",
    "non_norm_coef_norms = []\n",
    "non_norm_rmses = []\n",
    "\n",
    "best_rmse_non_norm = 10000\n",
    "best_alpha_non_norm = -1\n",
    "\n",
    "for alpha in alphas: \n",
    "    non_norm_lasso = Lasso(alpha=alpha, normalize=False)\n",
    "    num_nonzero_coefs, coef_norm = non_norm_lasso.fit(concrete_data.X_train, concrete_data.y_train)\n",
    "    non_norm_num_nonzero_coefs.append(num_nonzero_coefs)\n",
    "    non_norm_coef_norms.append(coef_norm)\n",
    "    non_norm_rmse = non_norm_lasso.evaluate(concrete_data.X_test, concrete_data.y_test)\n",
    "    \n",
    "    if non_norm_rmse <= best_rmse_non_norm:\n",
    "        best_rmse_non_norm = non_norm_rmse\n",
    "        best_alpha_non_norm = alpha\n",
    "        \n",
    "    non_norm_rmses.append(non_norm_rmse)\n",
    "\n",
    "\n",
    "plt.figure(figsize=(20, 10))\n",
    "\n",
    "plt.subplot(1, 5, 1)    \n",
    "plt.plot(np.log10(alphas), norm_num_nonzero_coefs, label=\"normalized Lasso\")\n",
    "plt.plot(np.log10(alphas), non_norm_num_nonzero_coefs, label=\"non-normalized Lasso\")\n",
    "plt.xlabel(\"log10(alpha)\")\n",
    "plt.ylabel(\"number of non-zero coefficients of w\")\n",
    "plt.title(\"normalized versus non-normalized Lasso on # of non-zero w\")\n",
    "plt.legend()\n",
    "\n",
    "plt.subplot(1, 5, 3)    \n",
    "plt.plot(np.log10(alphas), norm_coef_norms, label=\"normalized Lasso\")\n",
    "plt.plot(np.log10(alphas), non_norm_coef_norms, label=\"non-normalized Lasso\")\n",
    "plt.xlabel(\"log10(alpha)\")\n",
    "plt.ylabel(\"norm of w\")\n",
    "plt.title(\"normalized versus non-normalized Lasso on norm of w\")\n",
    "plt.legend()\n",
    "    \n",
    "plt.subplot(1, 5, 5)\n",
    "plt.plot(np.log10(alphas), norm_rmses, label=\"normalized Lasso\")\n",
    "plt.plot(np.log10(alphas), non_norm_rmses, label=\"non-normalized Lasso\")\n",
    "plt.xlabel(\"log10(alpha)\")\n",
    "plt.ylabel(\"RMSE\")\n",
    "plt.title(\"normalized versus non-normalized Lasso on RMSE\")\n",
    "plt.legend()\n",
    "#END"
   ]
  },
  {
   "cell_type": "code",
   "execution_count": 12,
   "metadata": {},
   "outputs": [
    {
     "name": "stdout",
     "output_type": "stream",
     "text": [
      "The best alpha for normalized Lasso is 0.001.\n",
      "The best alpha for non-normalized Lasso is 0.001.\n"
     ]
    }
   ],
   "source": [
    "print(\"The best alpha for normalized Lasso is {}.\".format(best_alpha_norm))\n",
    "print(\"The best alpha for non-normalized Lasso is {}.\".format(best_alpha_non_norm))"
   ]
  },
  {
   "cell_type": "markdown",
   "metadata": {},
   "source": [
    "#### Workspace 1.5b\n",
    "%BEGIN\n",
    "\n",
    "The best alpha for normalized Ridge is 0.001.\n",
    "\n",
    "The best alpha for non-normalized Ridge is 0.001.\n",
    "\n",
    "Yes, you can get all coefficients of 𝐰 to 0 for the non-normalized Lasso as alpha increases. With the alpha values provided in the cell, number of non-zero coefficients of w stops at 6. However, as the alpha value increases beyond the provided values, it eventaully reaches to 0 for all coefficients of w.  \n",
    "\n",
    "%END"
   ]
  },
  {
   "cell_type": "markdown",
   "metadata": {},
   "source": [
    "- 1.6 **[3 points]** (Write-up) Compare the two algorithms on the concrete strength dataset: compare the number of non-zero coordinates of Ridge vs Lasso and their RMSE on each dataset. Which type of regression is better? When does normalization improve the RMSE?"
   ]
  },
  {
   "cell_type": "markdown",
   "metadata": {},
   "source": [
    "\n",
    "\n",
    "#### Workspace 1.6\n",
    "\n",
    "%BEGIN\n",
    "\n",
    "Number of non-zero coordinates of Ridge is constant (which is 8) for all alpha values regardless of the status of normalization. Number of non-zero coordinates of normalized Lasso is 7 and non-normalized Lasso is 8 when RMSE is the lowest. Normalized Lasso has performed feature selection by setting some coefficients to zero. They both have the lowest RMSE when the alpha value is the smallest. Since they both have the same lowest RMSE value, it's hard to tell which type of regression is better than the other. However, normalized Lasso is using less features than Ridge, so I would say Lasso is better. \n",
    "\n",
    "Normalization increases the RMSE when alpha value is high. \n",
    " \n",
    "%END"
   ]
  },
  {
   "cell_type": "markdown",
   "metadata": {},
   "source": [
    "Lasso is expected to have higher level of sparsity compared to Ridge. On the other hand, when the number of features is very large\n",
    "(larger than the sample size), Lasso can struggle at picking the right features.\n",
    "Elastic Net try to combine both types of regularization to get the best of both worlds by minimizing:\n",
    "\n",
    "\\begin{align}\n",
    "\\frac{1}{2N} \\sum_i ||y_i - \\mathbf{w}^T\\mathbf{x}_i -\\mathbf{b}||^2_2 + \\alpha\\beta||\\mathbf{w}||_1 + \\frac{\\alpha}{2}(1 - \\beta)||\\mathbf{w}||^2_2\n",
    "\\end{align}\n",
    "\n",
    "where $\\beta\\in[0,1]$ is the $l_1$ ratio ($\\beta=1$ for Lasso and $\\beta=0$ for Ridge).\n",
    "\n",
    "We'll be using [ElasticNet](https://scikit-learn.org/stable/modules/generated/sklearn.linear_model.ElasticNet.html) solver from scikit.\n",
    "\n",
    "- 1.7 **[2 points]** Complete ElasticNet regression class `Elastic` by implementing fit and evaluate methods with the same signature as Lasso and Ridge. (Again, you can use inheritance)"
   ]
  },
  {
   "cell_type": "code",
   "execution_count": 13,
   "metadata": {
    "deletable": false,
    "nbgrader": {
     "cell_type": "code",
     "checksum": "95e75afd530652e1037b140896f31ba4",
     "grade": true,
     "grade_id": "cell-3dbe5007114e08f2",
     "locked": false,
     "points": 0,
     "schema_version": 3,
     "solution": true,
     "task": false
    }
   },
   "outputs": [],
   "source": [
    "from sklearn.linear_model import ElasticNet\n",
    "\n",
    "\n",
    "class Elastic(object):\n",
    "    def __init__(self, alpha, beta=0.5, normalize=False):\n",
    "        \"\"\"\n",
    "        :param alpha: regularization parameter\n",
    "        :param beta: l1_ratio for ElasticNet\n",
    "        :param normalize: normalization flag\n",
    "        \"\"\"\n",
    "        self.alpha = alpha\n",
    "        self.beta = beta\n",
    "        self.normalize = normalize\n",
    "        self.scaler = StandardScaler()\n",
    "        self.coefficients = None\n",
    "        self.intercept = None\n",
    "        self._model = ElasticNet(alpha=alpha, l1_ratio=beta)\n",
    "\n",
    "    def fit(self, X, y):\n",
    "        \"\"\"\n",
    "        fit self._model using the provided data and store the coef and intercept in self.coef_ and self.intercept\n",
    "        Calculate the number of non-zero coefficients in the model weights and the norm using np.linalg.norm\n",
    "        :param X: training features (n_samples, n_features)\n",
    "        :param y: target values (n_samples)\n",
    "        :return: tuple (number of non-zeros coefficients of w, norm of w)\n",
    "        \"\"\"\n",
    "        num_nonzero_coefs, coef_norm = 0, 0\n",
    "        \n",
    "        # Normalize data with the scaler, if required\n",
    "        if self.normalize:\n",
    "            X = self.scaler.fit_transform(X)\n",
    "            \n",
    "        # Workspace 1.7.a\n",
    "        # TO DO: Complete Elastic Net\n",
    "        # TO DO: save w and b in self.coef_ and self.intercept respectively\n",
    "        #BEGIN \n",
    "        # code here\n",
    "        \n",
    "        # https://scikit-learn.org/stable/modules/generated/sklearn.linear_model.ElasticNet.html\n",
    "        self._model.fit(X, y)\n",
    "        self.coefficients = self._model.coef_\n",
    "        self.intercept = self._model.intercept_\n",
    "        \n",
    "        num_nonzero_coefs = np.count_nonzero(self.coefficients)\n",
    "        coef_norm = np.linalg.norm(self.coefficients)\n",
    "        #END\n",
    "        return num_nonzero_coefs, coef_norm\n",
    "\n",
    "    def evaluate(self, test_x, test_y):\n",
    "        \"\"\"\n",
    "        Compute Root mean square error (RMSE) between the predicted values and the actual values  of the test data\n",
    "        :param test_x: test features\n",
    "        :param test_y: test target\n",
    "        :return: RMSE\n",
    "        \"\"\"\n",
    "\n",
    "        root_mean_squared_error = 0\n",
    "        # TO DO: predict based on the test features and return the mean_squared_error\n",
    "        # Workspace 1.7.b\n",
    "        #BEGIN \n",
    "        # code here\n",
    "        self.fit(test_x, test_y)\n",
    "        \n",
    "        if self.normalize:\n",
    "            test_x = self.scaler.fit_transform(test_x)\n",
    "        y_pred = np.dot(self.coefficients, test_x.T) + self.intercept\n",
    "        root_mean_squared_error = np.sqrt(np.mean((test_y - y_pred)**2))\n",
    "        #END\n",
    "        return root_mean_squared_error"
   ]
  },
  {
   "cell_type": "code",
   "execution_count": 14,
   "metadata": {},
   "outputs": [
    {
     "name": "stderr",
     "output_type": "stream",
     "text": [
      "....\n",
      "----------------------------------------------------------------------\n",
      "Ran 4 tests in 0.007s\n",
      "\n",
      "OK\n"
     ]
    },
    {
     "data": {
      "text/plain": [
       "<Figure size 432x288 with 0 Axes>"
      ]
     },
     "metadata": {},
     "output_type": "display_data"
    }
   ],
   "source": [
    "# Tests cell, do not remove\n",
    "%run -i tests elastic"
   ]
  },
  {
   "cell_type": "markdown",
   "metadata": {},
   "source": [
    "- 1.8 **[2 points]** Produce 3 plots as a function of $\\log_{10}(\\alpha)$ (logarithmic scale) that compare normalized versus non-normalized `Elastic`:\n",
    "    - The number of non-zero coefficients of $\\mathbf w$\n",
    "    - The norm of $\\mathbf w$\n",
    "    - The test RMSE (Root Mean Squared Error)\n",
    "\n",
    "Use the values of $\\alpha$ provided in the cell, and $\\beta= 0.3$. What is the best `alpha` for each version of the two models? How does it compare to the previous models.\n"
   ]
  },
  {
   "cell_type": "code",
   "execution_count": 15,
   "metadata": {
    "deletable": false,
    "nbgrader": {
     "cell_type": "code",
     "checksum": "89d01f58b87afb867beeec28162bf9b4",
     "grade": true,
     "grade_id": "cell-a91430adcf4c93ba",
     "locked": false,
     "points": 0,
     "schema_version": 3,
     "solution": true,
     "task": false
    }
   },
   "outputs": [
    {
     "data": {
      "text/plain": [
       "<matplotlib.legend.Legend at 0x1a3db304040>"
      ]
     },
     "execution_count": 15,
     "metadata": {},
     "output_type": "execute_result"
    },
    {
     "data": {
      "image/png": "[encoded data removed]",
      "text/plain": [
       "<Figure size 1440x720 with 3 Axes>"
      ]
     },
     "metadata": {
      "needs_background": "light"
     },
     "output_type": "display_data"
    }
   ],
   "source": [
    "alphas = [1e-4, 1e-3, 1e-2, 0.02, 0.05, 0.1, 0.2, 0.3, 1.0, 2.0, 10.0]\n",
    "beta = 0.3\n",
    "# Workspace 1.2\n",
    "#BEGIN \n",
    "# code here\n",
    "\n",
    "norm_num_nonzero_coefs = []\n",
    "norm_coef_norms = []\n",
    "norm_rmses = []\n",
    "\n",
    "best_rmse_norm = 10000\n",
    "best_rmse_non_norm = 10000\n",
    "\n",
    "best_alpha_norm = -1\n",
    "best_alpha_non_norm = -1\n",
    "\n",
    "for alpha in alphas:\n",
    "    norm_elastic = Elastic(alpha=alpha, beta=beta, normalize=True)\n",
    "    num_nonzero_coefs, coef_norm = norm_elastic.fit(concrete_data.X_train, concrete_data.y_train)\n",
    "    norm_num_nonzero_coefs.append(num_nonzero_coefs)\n",
    "    norm_coef_norms.append(coef_norm)\n",
    "    norm_rmse = norm_elastic.evaluate(concrete_data.X_test, concrete_data.y_test)\n",
    "    \n",
    "    if norm_rmse <= best_rmse_norm:\n",
    "        best_rmse_norm = norm_rmse\n",
    "        best_alpha_norm = alpha\n",
    "        \n",
    "    norm_rmses.append(norm_rmse)\n",
    "\n",
    "\n",
    "non_norm_num_nonzero_coefs = []\n",
    "non_norm_coef_norms = []\n",
    "non_norm_rmses = []\n",
    "\n",
    "best_rmse_non_norm = 10000\n",
    "best_alpha_non_norm = -1\n",
    "\n",
    "for alpha in alphas: \n",
    "    non_norm_elastic = Elastic(alpha=alpha, beta=beta, normalize=False)\n",
    "    num_nonzero_coefs, coef_norm = non_norm_elastic.fit(concrete_data.X_train, concrete_data.y_train)\n",
    "    non_norm_num_nonzero_coefs.append(num_nonzero_coefs)\n",
    "    non_norm_coef_norms.append(coef_norm)\n",
    "    non_norm_rmse = non_norm_elastic.evaluate(concrete_data.X_test, concrete_data.y_test)\n",
    "    \n",
    "    if non_norm_rmse <= best_rmse_non_norm:\n",
    "        best_rmse_non_norm = non_norm_rmse\n",
    "        best_alpha_non_norm = alpha\n",
    "        \n",
    "    non_norm_rmses.append(non_norm_rmse)\n",
    "\n",
    "\n",
    "plt.figure(figsize=(20, 10))\n",
    "\n",
    "plt.subplot(1, 5, 1)    \n",
    "plt.plot(np.log10(alphas), norm_num_nonzero_coefs, label=\"normalized Elastic\")\n",
    "plt.plot(np.log10(alphas), non_norm_num_nonzero_coefs, label=\"non-normalized Elastic\")\n",
    "plt.xlabel(\"log10(alpha)\")\n",
    "plt.ylabel(\"number of non-zero coefficients of w\")\n",
    "plt.title(\"normalized versus non-normalized Elastic on # of non-zero w\")\n",
    "plt.legend()\n",
    "\n",
    "plt.subplot(1, 5, 3)    \n",
    "plt.plot(np.log10(alphas), norm_coef_norms, label=\"normalized Elastic\")\n",
    "plt.plot(np.log10(alphas), non_norm_coef_norms, label=\"non-normalized Elastic\")\n",
    "plt.xlabel(\"log10(alpha)\")\n",
    "plt.ylabel(\"norm of w\")\n",
    "plt.title(\"normalized versus non-normalized Elastic on norm of w\")\n",
    "plt.legend()\n",
    "    \n",
    "plt.subplot(1, 5, 5)\n",
    "plt.plot(np.log10(alphas), norm_rmses, label=\"normalized Elastic\")\n",
    "plt.plot(np.log10(alphas), non_norm_rmses, label=\"non-normalized Elastic\")\n",
    "plt.xlabel(\"log10(alpha)\")\n",
    "plt.ylabel(\"RMSE\")\n",
    "plt.title(\"normalized versus non-normalized Elastic on RMSE\")\n",
    "plt.legend()\n",
    "#END"
   ]
  },
  {
   "cell_type": "code",
   "execution_count": 16,
   "metadata": {},
   "outputs": [
    {
     "name": "stdout",
     "output_type": "stream",
     "text": [
      "[0.12389025566231388, 0.12391569855611706, 0.12464356915293015, 0.12651653791040587, 0.1347152084240052, 0.15180426876503506, 0.1807661142953074, 0.19648579966803711, 0.1993545118770868, 0.1993545118770868, 0.1993545118770868]\n",
      "[0.12388971510126554, 0.12388974009282745, 0.123892236038518, 0.12389978564334858, 0.12395239972186146, 0.12398909929476433, 0.12403630551031851, 0.12411488803041668, 0.12551428666225659, 0.1299785708992995, 0.17162365688793604]\n"
     ]
    }
   ],
   "source": [
    "print(norm_rmses)\n",
    "print(non_norm_rmses)"
   ]
  },
  {
   "cell_type": "code",
   "execution_count": 17,
   "metadata": {},
   "outputs": [
    {
     "name": "stdout",
     "output_type": "stream",
     "text": [
      "The best alpha for normalized Elastic is 0.0001.\n",
      "The best alpha for non-normalized Elastic is 0.0001.\n"
     ]
    }
   ],
   "source": [
    "print(\"The best alpha for normalized Elastic is {}.\".format(best_alpha_norm))\n",
    "print(\"The best alpha for non-normalized Elastic is {}.\".format(best_alpha_non_norm))"
   ]
  },
  {
   "cell_type": "markdown",
   "metadata": {},
   "source": [
    "#### Workspace 1.8.b\n",
    "\n",
    "%BEGIN\n",
    "\n",
    "The best alpha for normalized Elastic is 0.0001.\n",
    "\n",
    "The best alpha for non-normalized Elastic is 0.0001.\n",
    "\n",
    "Previous models also have the best performance when alpha is the lowest. Normalized verision of all three models have higher RMSE as alpha value increases.  Also, You can get all coefficients of 𝐰 to 0 for the non-normalized Elastic as well if alpha is set to a large value.\n",
    "\n",
    "%END"
   ]
  },
  {
   "cell_type": "markdown",
   "metadata": {},
   "source": [
    "1.9 **[3 points]** What are the pros and cons of each of the three types of regressions we have tested?"
   ]
  },
  {
   "cell_type": "markdown",
   "metadata": {},
   "source": [
    "#### Workspace 1.9\n",
    "\n",
    "%BEGIN\n",
    "\n",
    "Ridge\n",
    "\n",
    "- Pros: \n",
    "Easy to implement and computationally efficient because Ridge regression admits a closed form solution for 𝐰 and 𝐛.\n",
    "       \n",
    "- Cons: \n",
    "Ridge regression doesn't perform feature selection, so it may keep irrelevant features that affects the performance.\n",
    "Ridge regression requires the optimal value of the alpha to be selected. If alpha is too small, then the model might be still overfitting. If alpha is too large, then the model might be underfitting. \n",
    "\n",
    "Lasso\n",
    "\n",
    "- Pros: \n",
    "Lasso regression performs feature selection by setting some of the coefficients to zero.\n",
    "Lasso regression can use alpha to control the sparsity of the model. As you can see from the number of non-zero coefficients of w for Lasso regression, its sparsity changes based on different alpha value. \n",
    "\n",
    "\n",
    "- Cons:\n",
    "Lasso regression may not be effective when there are many features. It may remove useful features from the model and increases bias. \n",
    "Cannot handle a small dataset with high dimensionality.\n",
    "Compared to Ridge regression, Lasso regression can be more computationally expensive and harder to implement because there is no closed form solution for 𝐰 and 𝐛.\n",
    "\n",
    "Elastic\n",
    "\n",
    "- Pros: \n",
    "Combines L1 and L2 regulazations.\n",
    "Can handle a small dataset with high dimensionality since it uses both L1 and L2 regulazations.\n",
    "Better feature selections than Lasso as you can see that Elastic has better performance than Lasso when they have the same number of non-zero coefficients of w.\n",
    "\n",
    "\n",
    "- Cons: \n",
    "Need to tune alpha and beta (hyperparameters) appropriates to get the best performance.\n",
    "Compared to Ridge and Lasso, it can be more computationally expensive since it uses both L1 and L2 regulazations.\n",
    "\n",
    "\n",
    "%END"
   ]
  },
  {
   "cell_type": "markdown",
   "metadata": {},
   "source": [
    "***\n",
    "## Problem 2: Logistic Regression for Binary Classification (30 points)\n",
    "\n",
    "The second part of this assignment will be dealing with Logistic Regression.\n",
    "While the name \"regression\" suggests otherwise, Logistic Regression is actually used for classification.\n",
    "It's a regression problem because the targets are the continuous likelihoods of the outcomes.\n",
    "\n",
    "We will use the MNIST digits dataset for this problem.\n",
    "Let's start with a simple case for binary Logistic Regression: Our class label will be `1` if a sample is an odd number and `0` otherwise."
   ]
  },
  {
   "cell_type": "code",
   "execution_count": 18,
   "metadata": {},
   "outputs": [],
   "source": [
    "binary_digits = data.BinaryDigits()"
   ]
  },
  {
   "cell_type": "code",
   "execution_count": 19,
   "metadata": {},
   "outputs": [
    {
     "name": "stdout",
     "output_type": "stream",
     "text": [
      "[0 1]\n",
      "[479 521]\n"
     ]
    }
   ],
   "source": [
    "unique, counts = np.unique(binary_digits.y_train, return_counts=True)\n",
    "\n",
    "print(unique)  \n",
    "print(counts)  "
   ]
  },
  {
   "cell_type": "markdown",
   "metadata": {},
   "source": [
    "Using the same notations from Problem 1 (this time with discrete targets $y_i$ in {0, 1}), _Logistic Regression_ is about minimizing the **N**egative **L**og **L**ikelihood objective defined as:\n",
    "\\begin{align}\n",
    "\\textrm{NLL}(\\mathbf{w}) = -\\frac{1}{N}\\sum_{i=1}^N \\left[y_i \\log \\sigma({\\mathbf{x_i}\\mathbf{w}^T}) + (1-y_i)\\log(1 - \\sigma(\\mathbf{x_i}\\mathbf{w}^T))\\right]\n",
    "\\end{align}\n",
    "\n",
    "You might be wondering: where is the intercept?\n",
    "We're including the intercept in $(\\mathbf x_i)_i$ since we'll be adding a constant feature $\\mathbf x_{i,0} = 1$ to all samples $(\\mathbf x_i)_i$.\n",
    "We will call it the zero-th column and the intercept will be $\\mathbf{w}_0$.\n",
    "This zero-th column will be appended to the training samples in `fit` method and the test samples in `predict` method. $\\sigma$ is the sigmoid function seen in class.\n",
    "\n",
    "The gradient of **NLL** w.r.t $\\mathbf{w}$ is:\n",
    "\n",
    "\\begin{align}\n",
    "\\frac{\\partial \\textrm{NLL}}{\\partial \\mathbf{w}} = \\frac{1}{N} \\sum_i \\left[\\sigma(\\mathbf{x}_i\\mathbf{w}^T)-y_i)\\right]\\mathbf{x}_i\n",
    "\\end{align}"
   ]
  },
  {
   "cell_type": "markdown",
   "metadata": {},
   "source": [
    "- 2.1 **[3 points]** Complete the `sigmoid` function to return the sigmoid values $\\sigma({\\mathbf{x_i}\\mathbf{w}^T})$ given features array. You have to truncate the score ${\\mathbf{x_i}\\mathbf{w}^T}$ to the interval $[-25, 25]$ to avoid overflow of `np.exp`. *Hint: Pass only x to this function, and perform the matrix multiplication with w inside the function.*\n",
    "\n",
    "\n",
    "- 2.2 **[3 points]** Finish the `compute_gradient` function to return the derivative of the cost with respect to the weights\n",
    "\n",
    "- 2.3 **[3 points]** Finish the `batch_update` function so that it performs batch gradient descent using the provided batch data\n",
    "\n",
    "- 2.4 **[4 points]** Finish the `fit` function so that it performs several training epochs and returns the Recall score on the validation data at the end of each epoch. Initialize $\\mathbf{w}$ so that $\\mathbf{w}_j = \\frac{1}{d}$\n",
    "\n",
    "- 2.5 **[2 points]** Finish the `predict` method to return the predicted labels (either 0 or 1)\n"
   ]
  },
  {
   "cell_type": "code",
   "execution_count": 20,
   "metadata": {
    "deletable": false,
    "nbgrader": {
     "cell_type": "code",
     "checksum": "6cd9406fdb825266931f943e779f81aa",
     "grade": true,
     "grade_id": "cell-cef0c088b0d72724",
     "locked": false,
     "points": 0,
     "schema_version": 3,
     "solution": true,
     "task": false
    }
   },
   "outputs": [],
   "source": [
    "from sklearn.metrics import recall_score\n",
    "\n",
    "class LogisticRegression:\n",
    "\n",
    "    def __init__(self, eta=0.1, alpha=0):\n",
    "        \"\"\"\n",
    "        Create a logistic regression classifier\n",
    "        :param eta: Learning rate\n",
    "        :param alpha: We will use this parameter later (IN BONUS)\n",
    "        \"\"\"\n",
    "\n",
    "        self.w = None  # uninitialized w\n",
    "        self.eta = eta  # learning rate\n",
    "        self.initialized = False # flag used to initialize w only once, it allows calling fit multiple times\n",
    "        self.alpha = alpha  # regularization / penalty term (USED IN BONUS)\n",
    "\n",
    "    def sigmoid(self, x, threshold=25.0):\n",
    "        \"\"\"\n",
    "\n",
    "        :param x: features array of shape (num_samples, num_features + 1) (zero-th column appended)\n",
    "        :param threshold: the truncating threshold for np.exp, default \n",
    "        \n",
    "        \n",
    "        to 25.0\n",
    "        :return: sigmoid values , of shape (num_samples,)\n",
    "        \"\"\"\n",
    "        # Workspace 2.1\n",
    "        # TO DO: Complete this function to return the output of applying the sigmoid function to the score\n",
    "        #BEGIN \n",
    "        # code here\n",
    "        x = np.dot(x, self.w)\n",
    "        x = np.clip(x, -threshold, threshold)\n",
    "        sigmoid = 1 / (1 + np.exp(-x))\n",
    "        return sigmoid\n",
    "        #END\n",
    "\n",
    "    def compute_gradient(self, x, y):\n",
    "        \"\"\"\n",
    "        Return the derivative of the cost w.r.t to the weights. Don't forget to average by batch_size\n",
    "        :param x:  Feature vector, shape (batch_size, num_features +1), with zero-th column appended\n",
    "        :param y: real binary class label, shape (batch_size)\n",
    "        :return: gradient of shape (num_features + 1,)\n",
    "        \"\"\"\n",
    "\n",
    "        # Workspace 2.2\n",
    "        # TO DO: Finish this function to compute the gradient\n",
    "        gradient = np.zeros((x.shape[1], ))\n",
    "        #BEGIN \n",
    "        # code here\n",
    "        n_samples, n_features = x.shape\n",
    "        y_pred = self.sigmoid(x)\n",
    "        gradient = 1/n_samples * np.dot(x.T, (y_pred - y)) \n",
    "        #END\n",
    "        return gradient\n",
    "\n",
    "    def batch_update(self, batch_x, batch_y):\n",
    "        \"\"\"\n",
    "        Single self.w update using the batch.\n",
    "        :param batch_x: array of features (includes the constant feature at column 0), of shape (batch_size, num_features + 1)\n",
    "        :param batch_y: array of target values, shape (batch_size,)\n",
    "        :return: nothing\n",
    "        \"\"\"\n",
    "\n",
    "        # Workspace 2.3\n",
    "        #BEGIN \n",
    "        # code here\n",
    "        gradient = self.compute_gradient(batch_x, batch_y)\n",
    "        self.w = self.w - (self.eta * gradient)\n",
    "        \n",
    "        \n",
    "        #END\n",
    "\n",
    "    def fit(self, X, y, epochs=1, batch_size=1, validation_X=None, validation_y=None):\n",
    "        \"\"\"\n",
    "        train the LogisticRegression\n",
    "        :param X: training features, shape (num_samples, num_features)\n",
    "        :param y: training labels, shape (num_samples,)\n",
    "        :param epochs: number of epochs, integer\n",
    "        :param batch_size: size of batch for gradient update, 1 for SGD\n",
    "        :param validation_X: validation rows, should default to training data if not provided\n",
    "        :param validation_y: validation labels\n",
    "        :return: recall score at the end of each epoch on validation data\n",
    "        \"\"\"\n",
    "\n",
    "        if validation_X is None:\n",
    "            validation_X, validation_y = X, y\n",
    "        metrics = []\n",
    "        \n",
    "        # Prepend constant feature to data\n",
    "        X = np.concatenate([np.ones((X.shape[0], 1)), X], axis=1)\n",
    "        \n",
    "        # initialize weights\n",
    "        if not self.initialized:\n",
    "            self.w = np.ones(X.shape[1]) / X.shape[1]\n",
    "            self.initialized = True\n",
    "        \n",
    "        # Workspace  2.4\n",
    "        # TO DO: Process X to append the zero-th constant column and call self.optimize\n",
    "        # TO DO: Compute average recall on the validation data at the end of each epoch\n",
    "        #BEGIN \n",
    "        # code here\n",
    "        \n",
    "        for i in range(epochs):\n",
    "            self.optimize(X, y, batch_size)\n",
    "            \n",
    "            y_pred_val = self.predict(validation_X)\n",
    "            score = recall_score(validation_y, y_pred_val)      \n",
    "            metrics.append(score)        \n",
    "        \n",
    "        #END\n",
    "        return np.array(metrics)\n",
    "\n",
    "    def predict(self, X):\n",
    "        \"\"\"\n",
    "        :param X: features array, shape (num_samples, num_features) (without the constant column)\n",
    "        :return: predicted binary label, shape (num_samples,)\n",
    "        \"\"\"\n",
    "        # Workspace 2.5\n",
    "        y_hat = np.zeros((X.shape[0],))\n",
    "        X = np.concatenate([np.ones((X.shape[0], 1)), X], axis=1)  # We append zero-th column\n",
    "        #BEGIN \n",
    "        y_hat = self.sigmoid(X)\n",
    "        \n",
    "        # https://stackoverflow.com/questions/19666626/replace-all-elements-of-python-numpy-array-that-are-greater-than-some-value\n",
    "        y_hat[y_hat > 0.5] = 1\n",
    "        y_hat[y_hat <= 0.5] = 0\n",
    "        y_hat = y_hat.astype(int)\n",
    "        #END\n",
    "        return y_hat\n",
    "\n",
    "    def optimize(self, X, y, batch_size):\n",
    "        \"\"\"\n",
    "        Perform one epoch batch gradient on shuffled data\n",
    "        :param X: np.array of shape (num_samples, num_features +1), The training data with zero-th column appended\n",
    "        :param y: target values of shape (num_samples,)\n",
    "        :param batch_size: batch_size of the batch_update\n",
    "        :return: None\n",
    "        \"\"\"\n",
    "        indices = np.random.permutation(len(X))\n",
    "        for i in range(0, X.shape[0], batch_size):\n",
    "            batch_x = X[indices[i:i + batch_size]]\n",
    "            batch_y = y[indices[i:i + batch_size]]\n",
    "            self.batch_update(batch_x, batch_y)"
   ]
  },
  {
   "cell_type": "markdown",
   "metadata": {},
   "source": [
    "After completing the class above, loop over the training data and perform batch training with `batch_size=1`(Stochastic Gradient Descent) for 50 epochs, and different values of eta ( see `etas`). Train your model and do the following:\n",
    "\n",
    "- 2.6 **[5 points]** Plot the recall trend for the different values of eta on the training data (epoch vs recall). (reset random seed for each loop to mitigate the randomness effect)\n",
    "\n",
    "Use the values provided below"
   ]
  },
  {
   "cell_type": "code",
   "execution_count": 21,
   "metadata": {
    "deletable": false,
    "nbgrader": {
     "cell_type": "code",
     "checksum": "82b4ca5a04de5831522ad8a9af7117c6",
     "grade": true,
     "grade_id": "cell-b5a76291c7a700af",
     "locked": false,
     "points": 0,
     "schema_version": 3,
     "solution": true,
     "task": false
    }
   },
   "outputs": [
    {
     "data": {
      "image/png": "[encoded data removed]",
      "text/plain": [
       "<Figure size 432x288 with 1 Axes>"
      ]
     },
     "metadata": {
      "needs_background": "light"
     },
     "output_type": "display_data"
    }
   ],
   "source": [
    "etas = [.001, .01, 0.1, 1]\n",
    "\n",
    "recalls = {} \n",
    "\n",
    "for eta in etas:\n",
    "    np.random.seed(2022)  # Reset randomness\n",
    "    # Workspace 2.6\n",
    "    #BEGIN \n",
    "    # code here\n",
    "    logistic_regression = LogisticRegression(eta=eta, alpha=0)\n",
    "    recall = logistic_regression.fit(binary_digits.X_train, binary_digits.y_train, epochs=50, batch_size=1)\n",
    "    recalls[eta] = recall\n",
    "     \n",
    "    plt.plot([i+1 for i in range(50)], recall, label=str(eta))\n",
    "    #END\n",
    "    \n",
    "#plt.plot([i for i in range(1, 51)], recalls, label=\"normalized Elastic\")\n",
    "#plt.plot(np.log10(alphas), non_norm_rmses, label=\"non-normalized Elastic\")\n",
    "plt.xlabel(\"epoch\")\n",
    "plt.ylabel(\"recall\")\n",
    "plt.legend()\n",
    "plt.show()"
   ]
  },
  {
   "cell_type": "markdown",
   "metadata": {},
   "source": [
    "- 2.7 **[3 points]** Plot the recall trend for the different values of eta on the test data.\n",
    "(reset random seed for each loop to mitigate the randomness effect)"
   ]
  },
  {
   "cell_type": "code",
   "execution_count": 22,
   "metadata": {
    "deletable": false,
    "nbgrader": {
     "cell_type": "code",
     "checksum": "3120aea843e14154674dc72fb9b62683",
     "grade": true,
     "grade_id": "cell-18de9cc5abfc1c5a",
     "locked": false,
     "points": 0,
     "schema_version": 3,
     "solution": true,
     "task": false
    }
   },
   "outputs": [
    {
     "data": {
      "image/png": "[encoded data removed]",
      "text/plain": [
       "<Figure size 432x288 with 1 Axes>"
      ]
     },
     "metadata": {
      "needs_background": "light"
     },
     "output_type": "display_data"
    }
   ],
   "source": [
    "etas = [.0001, .001, .01, 1]\n",
    "\n",
    "for eta in etas:\n",
    "    np.random.seed(2022)\n",
    "    # Workspace 2.7\n",
    "    #BEGIN \n",
    "    logistic_regression = LogisticRegression(eta=eta, alpha=0)\n",
    "    recall = logistic_regression.fit(binary_digits.X_train, binary_digits.y_train, epochs=50, batch_size=1, validation_X=binary_digits.X_test, validation_y=binary_digits.y_test)\n",
    "    plt.plot([i+1 for i in range(50)], recall, label=str(eta))\n",
    "    #END\n",
    "plt.xlabel(\"epoch\")\n",
    "plt.ylabel(\"recall\")\n",
    "plt.legend()\n",
    "plt.show()"
   ]
  },
  {
   "cell_type": "markdown",
   "metadata": {},
   "source": [
    "This time we want to analyze the effect of varying the batch size. We fix `eta=0.01` and `epochs=50` and we want to\n",
    "examine the recall on the test set at the end of the training.\n",
    "\n",
    "- 2.8 **[4 points]** Produce a plot of the recall on the test data at the end of the training as a function of the batch size. Reset the random generator for each iteration.\n",
    "\n",
    "Use batch sizes provided below"
   ]
  },
  {
   "cell_type": "code",
   "execution_count": 23,
   "metadata": {
    "deletable": false,
    "nbgrader": {
     "cell_type": "code",
     "checksum": "2304ebb993994f85b07e7e74062fb683",
     "grade": true,
     "grade_id": "cell-b1f97c9c28584fea",
     "locked": false,
     "points": 0,
     "schema_version": 3,
     "solution": true,
     "task": false
    },
    "pycharm": {
     "name": "#%%\n"
    }
   },
   "outputs": [
    {
     "data": {
      "image/png": "[encoded data removed]",
      "text/plain": [
       "<Figure size 432x288 with 1 Axes>"
      ]
     },
     "metadata": {
      "needs_background": "light"
     },
     "output_type": "display_data"
    }
   ],
   "source": [
    "batch_sizes = list(range(1, 40))\n",
    "recalls = []\n",
    "\n",
    "for b_size in batch_sizes:\n",
    "    np.random.seed(2022)\n",
    "    # Workspace 2.8\n",
    "    #BEGIN \n",
    "    # code here\n",
    "    logistic_regression = LogisticRegression(eta=0.01, alpha=0)\n",
    "    recall = logistic_regression.fit(binary_digits.X_train, binary_digits.y_train, epochs=50, batch_size=b_size)\n",
    "    y_pred = logistic_regression.predict(binary_digits.X_test)\n",
    "    recalls.append(recall_score(binary_digits.y_test, y_pred))\n",
    "    #END\n",
    "plt.plot(batch_sizes, recalls)\n",
    "plt.show()"
   ]
  },
  {
   "cell_type": "markdown",
   "metadata": {},
   "source": [
    "2.9 **[3 points]** How does the learning rate (eta) and the number of epochs affect the performance of the classifier."
   ]
  },
  {
   "cell_type": "markdown",
   "metadata": {},
   "source": [
    "#### Workspace 2.9\n",
    "\n",
    "%BEGIN\n",
    "\n",
    "If the learning rate is too high, the algorithm might miss the best solution and fail to converge. The algorithm may take too long to converge or become stuck in a local minimum if the learning rate is too low. As you can see from the graph above, the model doesn't converge for the highest learning rate, resulting in poor performance compared to other learning rates. Also, the model does not have the best performance for the smallest learning rate either because it can become stuck in a local minimum.\n",
    "\n",
    "If the number of epochs is set too high, the model may overfit and perform poorly on the test dataset. If the number of epochs is too low, the model may not have enough time to converge, resulting in underfitting and poor performance.\n",
    "\n",
    "\n",
    "%END"
   ]
  },
  {
   "cell_type": "markdown",
   "metadata": {},
   "source": [
    "2.10 (**Bonus**) **[4 points]** Since we're done with the binary regression, we will try to add Ridge regularization:\n",
    "\\begin{align}\n",
    "\\textrm{NLL}(\\mathbf{w}) = -\\frac{1}{N}\\sum_{i=1}^N \\left[y_i \\log \\sigma(\\mathbf{w}^T{\\mathbf{x}_i}) + (1-y_i)\\log(1 - \\sigma(\\mathbf{w}^T\\mathbf{x}_i))\\right] + \\alpha {||\\mathbf{w}||^2}_{\\geq1}\n",
    "\\end{align}\n",
    "\n",
    "This is exactly what we will be using the `alpha` parameter in `LogisticRegression` for.\n",
    "First, write the gradient formula in the cell below and edit your `compute_gradient` to account for the regularization term. Note that the regularization $||\\mathbf{w}||^2$ does not apply to the intercept $\\mathbf{w}_0$"
   ]
  },
  {
   "cell_type": "markdown",
   "metadata": {},
   "source": [
    "#### Workspace 2.10\n",
    "\n",
    "%BEGIN\n",
    "\n",
    "% YOUR ANSWER HERE\n",
    "\n",
    "%END\n",
    "\n"
   ]
  },
  {
   "cell_type": "markdown",
   "metadata": {},
   "source": [
    "## Problem 3: Logistic Regression for Multiclass Classification (24 Points)\n",
    "***\n",
    "You will now create a classifier that is commonly referred to as _One Versus All_ Logistic Regression,\n",
    "where a binary classifier will be trained to identify a single class. The prediction is performed by assigning the label\n",
    "of the classifier that is most confident in its prediction (the highest score/sigmoid value).\n",
    "\n",
    "The dataset will be the same one we use in Problem Set 1's KNNClassifier"
   ]
  },
  {
   "cell_type": "code",
   "execution_count": 24,
   "metadata": {},
   "outputs": [],
   "source": [
    "from sklearn.preprocessing import StandardScaler\n",
    "digits = data.Digits()\n",
    "scaler = StandardScaler()\n",
    "digits.X_train = scaler.fit_transform(digits.X_train)\n",
    "digits.X_test = scaler.transform(digits.X_test)"
   ]
  },
  {
   "cell_type": "code",
   "execution_count": 25,
   "metadata": {},
   "outputs": [
    {
     "name": "stdout",
     "output_type": "stream",
     "text": [
      "1000\n",
      "1000\n"
     ]
    }
   ],
   "source": [
    "unique_values, value_counts = np.unique(digits.y_train, return_counts=True)\n",
    "print(np.sum(value_counts))\n",
    "print(digits.y_train.shape[0])"
   ]
  },
  {
   "cell_type": "markdown",
   "metadata": {},
   "source": [
    "- 3.1 **[3 points]** Complete `one_hot_encoding` to transform your integer labels into a set of binary features via one-hot encoding.\n",
    "You can assume that it's called after `label_to_index` and `index_to_label` have been defined.\n",
    "\n",
    "\n",
    "- 3.2 **[2 points]** Complete `normalize_data` to normalize your features. You can use `StandardScaler`\n",
    "- 3.3 **[4 points]** Complete `predict` method to return the predicted label using the scores from each class classifier.\n",
    "You might be tempted to call `LogisticRegression.predict`, but you need the sigmoid values to determine the most likely label (and hence have to add the zero-th column in OneVersusAll).\n",
    "\n",
    "- 3.4 **[2 points]** Complete `evaluate` to return the weighted average recall (WAR) on the validation data (use `recall_score`)\n",
    "- 3.5 **[6 points]** Complete `fit` function to fit all classifiers with their corresponding labels and compute the WAR at the end of each epoch\n",
    "\n",
    "Reminder: make no assumption about the number of features/classes in the data."
   ]
  },
  {
   "cell_type": "code",
   "execution_count": 26,
   "metadata": {
    "deletable": false,
    "nbgrader": {
     "cell_type": "code",
     "checksum": "81683927b75cdbcf0d258e80df700b3a",
     "grade": true,
     "grade_id": "cell-57fa14fd9fc61c3e",
     "locked": false,
     "points": 0,
     "schema_version": 3,
     "solution": true,
     "task": false
    }
   },
   "outputs": [],
   "source": [
    "class OneVersusAll(object):\n",
    "\n",
    "    def __init__(self, eta=0.1, alpha=0):\n",
    "        self.eta = eta  # Learning Rate\n",
    "        self.classifiers = []  # Array of LogisticRegression classifiers\n",
    "        self.alpha = alpha  # regularization / penalty rate (USED IN BONUS)\n",
    "        self.scaler = StandardScaler()\n",
    "        self.fitted = False  # Flag to store whether the model is already fitted to avoid fitting scaler more than once\n",
    "\n",
    "    def one_hot_encoding(self, y):\n",
    "        \"\"\"\n",
    "        Create one-hot encoding of y\n",
    "        :param y: shape (num_samples,)\n",
    "        :return: one hot encoding (num_samples, C) where C is the number of classes in the training labels\n",
    "        \"\"\"\n",
    "        one_hot_encode = np.zeros((y.shape[0], len(self.label_to_index)), dtype=int)\n",
    "        # Workspace 3.1\n",
    "        # TO DO: Represent the output vector y as a one hot encoding. Create a matrix M of dimensions (n X C)\n",
    "        # where n = number of samples, and C for number of classes\n",
    "        # If y[i] = class j, then M[i] is equal to 1 at position j and 0 elsewhere\n",
    "        #BEGIN \n",
    "        # code here        \n",
    "\n",
    "        for i in range(len(y)):\n",
    "            index = self.label_to_index[y[i]]\n",
    "            one_hot_encode[i, index] = 1\n",
    "        #END\n",
    "        return one_hot_encode\n",
    "\n",
    "    def normalize_data(self, X):\n",
    "        \"\"\"\n",
    "        Fit scaler if it hasn't been done yet and normalize X\n",
    "        :param X: Raw features, shape (num_samples, num_features)\n",
    "        :return: Normalized features,  shape (num_samples, num_features)\n",
    "        \"\"\"\n",
    "        # Workspace 3.2\n",
    "        # TO DO: Normalize the feature values of dataset X, you have to keep track of the mean and variance\n",
    "        #BEGIN \n",
    "        # code here\n",
    "        if not self.fitted:\n",
    "            self.scaler.fit(X)\n",
    "            self.fitted = True\n",
    "            \n",
    "        X = self.scaler.transform(X)\n",
    "            \n",
    "        #END\n",
    "        return X\n",
    "\n",
    "    def predict(self, X):\n",
    "        \"\"\"\n",
    "        The usual predict method\n",
    "        \"\"\"\n",
    "        # Workspace 3.3\n",
    "        # TO DO: Normalize X, process it and return the predicted label using the scores from classifiers\n",
    "        #BEGIN \n",
    "        # code here\n",
    "        X = self.normalize_data(X)\n",
    "        X = np.concatenate([np.ones((X.shape[0], 1)), X], axis=1)\n",
    "        \n",
    "        n_samples, n_features = X.shape\n",
    "        scores = np.zeros((n_samples, len(self.classifiers)))\n",
    "        for i in range(len(self.classifiers)):\n",
    "            score = self.classifiers[i].sigmoid(X)\n",
    "            scores[:, i] = score\n",
    "        \n",
    "        y_pred_index = np.argmax(scores, axis=1)\n",
    "        y_pred = [self.index_to_label[index] for index in y_pred_index]\n",
    "        \n",
    "        return y_pred\n",
    "        \n",
    "        #END\n",
    "\n",
    "    def evaluate(self, test_x, test_y):\n",
    "        # Workspace 3.4\n",
    "        #BEGIN \n",
    "        # code here\n",
    "        y_pred = self.predict(test_x)\n",
    "        unique_values, value_counts = np.unique(y_pred, return_counts=True)\n",
    "        war = recall_score(test_y, y_pred, average='weighted')\n",
    "        # https://scikit-learn.org/stable/modules/generated/sklearn.metrics.recall_score.html\n",
    "    \n",
    "        return war\n",
    "        #END\n",
    "\n",
    "    def fit(self, X, y, batch_size=1, epochs=10, validation_X=None, validation_y=None):\n",
    "        \"\"\"\n",
    "        Similar to LogisticRegression, but for multiclass case\n",
    "        :return: metrics, containing WAR score at the end of each epoch on the validation data\n",
    "        \"\"\"\n",
    "        self.label_to_index = dict(zip(np.unique(y), range(len(np.unique(y)))))\n",
    "        self.index_to_label = {v: k for k, v in self.label_to_index.items()}\n",
    "\n",
    "        metrics = []\n",
    "        if validation_X is None:\n",
    "            validation_X, validation_y = X, y\n",
    "            \n",
    "        # Workspace 3.5\n",
    "        # TO DO: Compute Weighted Average Recall at the end of each epoch\n",
    "        # TO DO: Process training data and use it to fit self.classifiers and compute the metrics every epoch\n",
    "        #BEGIN \n",
    "        # code here\n",
    "        \n",
    "        unique_values, value_counts = np.unique(y, return_counts=True)\n",
    "        y_hot_encoded = self.one_hot_encoding(y)\n",
    "        self.classifiers = []\n",
    "        for i in range(len(unique_values)):\n",
    "            self.classifiers.append(LogisticRegression(eta=self.eta, alpha=self.alpha))\n",
    "        \n",
    "        for i in range (epochs):\n",
    "            for c in unique_values:\n",
    "                np.random.seed(42)\n",
    "                index = self.label_to_index[c]\n",
    "                self.classifiers[index].fit(X, y_hot_encoded[:, index], batch_size=batch_size)\n",
    "            war = self.evaluate(validation_X, validation_y)\n",
    "            metrics.append(war)\n",
    "        \n",
    "         #END\n",
    "        return metrics\n",
    "    "
   ]
  },
  {
   "cell_type": "markdown",
   "metadata": {},
   "source": [
    "- 3.6 **[4 points]** Train `OneVersusAll` for 100 epochs using eta=0.1 and batch_size = 64. In the same figure, plot:\n",
    "    - The WAR metric on the digits training data at the end of each epoch\n",
    "    - The WAR metric on the digits test data at the end of each epoch\n",
    "    \n",
    "You should also print the best score on each if the partitions.\n",
    "You might need to adapt LogisticRegression so that fit method can be called multiple times without losing the weights from previous epoch.\n",
    "\n",
    "For a fair comparison, call `np.random.seed(42)` before each `fit` to reset the random generator."
   ]
  },
  {
   "cell_type": "code",
   "execution_count": 28,
   "metadata": {
    "deletable": false,
    "nbgrader": {
     "cell_type": "code",
     "checksum": "5f3d68b76d1bf31f03604b85e26f852f",
     "grade": true,
     "grade_id": "cell-f74436de47f4e173",
     "locked": false,
     "points": 0,
     "schema_version": 3,
     "solution": true,
     "task": false
    }
   },
   "outputs": [
    {
     "data": {
      "image/png": "[encoded data removed]",
      "text/plain": [
       "<Figure size 432x288 with 1 Axes>"
      ]
     },
     "metadata": {
      "needs_background": "light"
     },
     "output_type": "display_data"
    },
    {
     "data": {
      "image/png": "[encoded data removed]",
      "text/plain": [
       "<Figure size 432x288 with 1 Axes>"
      ]
     },
     "metadata": {
      "needs_background": "light"
     },
     "output_type": "display_data"
    },
    {
     "name": "stdout",
     "output_type": "stream",
     "text": [
      "best score for war_metric_training is 1.0.\n",
      "best score for war_metric_testing is 0.828.\n"
     ]
    }
   ],
   "source": [
    "epochs = 100\n",
    "eta = 0.1\n",
    "batch_size = 64\n",
    "# Workspace 3.6\n",
    "#BEGIN \n",
    "# code here\n",
    "multiclass_logistic_regression_1 = OneVersusAll(eta=0.1, alpha=0)\n",
    "war_metric_training = multiclass_logistic_regression_1.fit(digits.X_train, digits.y_train, batch_size=64, epochs=100)\n",
    "\n",
    "multiclass_logistic_regression_2 = OneVersusAll(eta=0.1, alpha=0)\n",
    "war_metric_testing = multiclass_logistic_regression_2.fit(digits.X_train, digits.y_train, batch_size=64, epochs=100, validation_X=digits.X_test, validation_y=digits.y_test)\n",
    "\n",
    "plt.title(\"war_metric_training\")\n",
    "plt.xlabel(\"epochs\")\n",
    "plt.ylabel(\"war\")\n",
    "plt.plot(list(range(1, epochs+1)), war_metric_training)\n",
    "plt.show()\n",
    "\n",
    "plt.title(\"war_metric_testing\")\n",
    "plt.xlabel(\"epochs\")\n",
    "plt.ylabel(\"war\")\n",
    "plt.plot(list(range(1, epochs+1)), war_metric_testing)\n",
    "plt.show()\n",
    "\n",
    "print(\"best score for war_metric_training is {}.\".format(max(war_metric_training)))\n",
    "print(\"best score for war_metric_testing is {}.\".format(max(war_metric_testing)))\n",
    "#END"
   ]
  },
  {
   "cell_type": "markdown",
   "metadata": {},
   "source": [
    "- 3.7 **[3 points]** Does the WAR improve as we train for more epochs on the two data partitions (train, test)? Why? How does it compare to KNNClassifier? How do you explain the difference?"
   ]
  },
  {
   "cell_type": "markdown",
   "metadata": {},
   "source": [
    "% Workspace 3.7\n",
    "\n",
    "%BEGIN\n",
    "\n",
    "As you can see from the graphs above, WAR improves as we train more epochs on training dataset, and it eventually reaches 1.0 WAR score. However, WAR improves to a certain point for testing dataset and starts degrading beyond the point due to the model being overfitting. The performance of Logistic Regressions(binary or One versus all) depend on the number of epochs, batch size, and learning rate. KNNClassifier's performance, on the other hand, is primarily determined by the number of nearest neighbors and the distance metrics used to calculate data point similarity. Logistic Regression and KNNClassifier have different hyperparameters to optimize the performance.\n",
    "\n",
    "%END"
   ]
  },
  {
   "cell_type": "markdown",
   "metadata": {},
   "source": [
    "- 3.8 **(Bonus)** **[3 points]** Repeat 3.6 and 3.7 using Ridge regularization for the LogisticRegression classifiers with alpha=0.01. How does the regularization affect the performance on train VS test sets?\n",
    "\n",
    "You have to answer 2.10 before you attempt this question."
   ]
  },
  {
   "cell_type": "code",
   "execution_count": 31,
   "metadata": {
    "deletable": false,
    "nbgrader": {
     "cell_type": "code",
     "checksum": "7ffbff4b24654f58c4c57fa1ae23270e",
     "grade": true,
     "grade_id": "cell-82d2964a6d66faae",
     "locked": false,
     "points": 0,
     "schema_version": 3,
     "solution": true,
     "task": false
    }
   },
   "outputs": [],
   "source": [
    "epochs = 100\n",
    "eta = 0.1\n",
    "batch_size = 64\n",
    "alpha = 1e-2\n",
    "# Workspace 3.8 (code)\n",
    "#BEGIN \n",
    "# code here\n",
    "#END"
   ]
  },
  {
   "cell_type": "markdown",
   "metadata": {},
   "source": [
    "#### Workspace 3.8 (write up)\n",
    "\n",
    "%BEGIN\n",
    "\n",
    "% YOUR ANSWER HERE\n",
    "\n",
    "%END"
   ]
  },
  {
   "cell_type": "markdown",
   "metadata": {},
   "source": [
    "## Problem 4: Naive Bayes (17 points)\n",
    "***\n",
    "Consider the problem of predicting whether your TA will be late to campus in the morning based off the weather, temperature, and whether they biked or took the bus.\n",
    "The dataset looks like the following:\n",
    "\n",
    "|Snowing |Raining |Below Freezing |Bike or Bus |Late |\n",
    "|:------:|:-----------:| :----------:| :----------:|--:|\n",
    "| Yes | No | Yes | Bus  | Yes |\n",
    "| No | No | No | Bicycle | No |\n",
    "| No | Yes | No | Bicycle | Yes |\n",
    "| No | No | No | Bus | Yes |\n",
    "| No | No | No | Bicycle | No |\n",
    "| No | No | Yes | Bicycle | No |\n",
    "| No | No | Yes | Bicycle | Yes |\n",
    "| Yes | Yes | Yes | Bus | No |\n",
    "| No | Yes | No | Bus | Yes |\n",
    "| No | Yes | No | Bicycle | No |\n",
    "| No | No | No | Bicycle | No |\n",
    "| Yes | No | Yes | Bicycle | Yes |\n"
   ]
  },
  {
   "cell_type": "code",
   "execution_count": 29,
   "metadata": {},
   "outputs": [
    {
     "name": "stdout",
     "output_type": "stream",
     "text": [
      "probability of TA being late: 0.5\n",
      "                \n",
      "probability of snowing: 0.25\n",
      "probability of snowing when TA late: 0.3333333333333333\n",
      "probability of the TA being late to campus when snowing is 0.6666666666666666\n",
      "                      \n",
      "probability of raining: 0.3333333333333333\n",
      "probability of raining when TA late: 0.3333333333333333\n",
      "probability of the TA being late to campus when raining is 0.5\n",
      "                      \n",
      "probability of below freezing: 0.4166666666666667\n",
      "probability of below freezing when TA late: 0.5\n",
      "probability of the TA being late to campus when below freezing is 0.6\n",
      "                      \n",
      "probability of bike: 0.6666666666666666\n",
      "probability of bike when TA late: 0.5\n",
      "probability of the TA being late to campus when bike is 0.375\n",
      "                      \n"
     ]
    }
   ],
   "source": [
    "features = np.array([\n",
    "    [1, 0, 1, 0],\n",
    "    [0, 0, 0, 1],\n",
    "    [0, 1, 0, 1],\n",
    "    [0, 0, 0, 0],\n",
    "    [0, 0, 0, 1],\n",
    "    [0, 0, 1, 1],\n",
    "    [0, 0, 1, 1],\n",
    "    [1, 1, 1, 0],\n",
    "    [0, 1, 0, 0],\n",
    "    [0, 1, 0, 1],\n",
    "    [0, 0, 0, 1],\n",
    "    [1, 0, 1, 1]\n",
    "])\n",
    "\n",
    "labels = np.array([1, 0, 1, 1, 0, 0, 1, 0, 1, 0, 0, 1])\n",
    "\n",
    "n_samples, n_features = features.shape\n",
    "feature_names = [\"snowing\", \"raining\", \"below freezing\", \"bike\"]\n",
    "prob_late = np.count_nonzero(labels == 1) / n_samples\n",
    "print(\"probability of TA being late: {}\".format(prob_late))\n",
    "print(\"                \")\n",
    "\n",
    "for i in range(n_features):\n",
    "    prob_feature = np.count_nonzero(features[:, i] == 1) / n_samples\n",
    "    print(\"probability of {}: {}\".format(feature_names[i], prob_feature))\n",
    "    prob_feature_late = np.sum(features[:, i] * labels) / np.count_nonzero(labels == 1)\n",
    "    print(\"probability of {} when TA late: {}\".format(feature_names[i], prob_feature_late))\n",
    "    prob_late_feature = (prob_feature_late * prob_late) / prob_feature\n",
    "    print(\"probability of the TA being late to campus when {} is {}\".format(feature_names[i], prob_late_feature))\n",
    "    print(\"                      \")\n"
   ]
  },
  {
   "cell_type": "markdown",
   "metadata": {},
   "source": [
    "4.1 [2 points] If we were to use only one binary feature (Snowing, Raining, Below Freezing, Bike or Bus)\n",
    "then what's the highest accuracy we could achieve? Which feature should we use?"
   ]
  },
  {
   "cell_type": "markdown",
   "metadata": {
    "deletable": false,
    "nbgrader": {
     "cell_type": "markdown",
     "checksum": "5d53ef70f5155f87a74504a67608bb7a",
     "grade": true,
     "grade_id": "cell-4d40ecaaf8cf56f4",
     "locked": false,
     "points": 0,
     "schema_version": 3,
     "solution": true,
     "task": false
    }
   },
   "source": [
    "**Workspace 4.2**\n",
    "\n",
    "#BEGIN\n",
    "\n",
    "probability of TA being late: 0.5\n",
    "                \n",
    "probability of snowing: 0.25\n",
    "\n",
    "probability of snowing when TA late: 0.3333333333333333\n",
    "\n",
    "probability of the TA being late to campus when snowing is 0.6666666666666666\n",
    "                      \n",
    "probability of raining: 0.3333333333333333\n",
    "\n",
    "probability of raining when TA late: 0.3333333333333333\n",
    "\n",
    "probability of the TA being late to campus when raining is 0.5\n",
    "                      \n",
    "probability of below freezing: 0.4166666666666667\n",
    "\n",
    "probability of below freezing when TA late: 0.5\n",
    "\n",
    "probability of the TA being late to campus when below freezing is 0.6\n",
    "                      \n",
    "probability of bike: 0.6666666666666666\n",
    "\n",
    "probability of bike when TA late: 0.5\n",
    "\n",
    "probability of the TA being late to campus when bike is 0.375\n",
    "\n",
    "Therefore, the highest accuracy we could achieve is 0.666 when it's snowing. We should use snowing. \n",
    "\n",
    "#END"
   ]
  },
  {
   "cell_type": "markdown",
   "metadata": {},
   "source": [
    "## How to implement NaiveBayes\n",
    "Recall Bayes' Theorem, which states the following:\n",
    "\\begin{align}\n",
    "P(y | X) = \\frac{P(X | y) P(y)}{P(X)}\n",
    "\\end{align}\n",
    "\n",
    "We refer to $P(y | X)$ as the posterior, $P(X|y)$ as the class-conditional, $P(y)$ as the prior, and $P(X)$ as the evidence.\n",
    "\n",
    "As seen during the class, given a sample $(x_1, x_2, x_3)$, the naive Bayes classifier should assign the label $y$ that\n",
    "maximizes:\n",
    "\n",
    "\\begin{align}\n",
    "\\log [p(y) \\prod_i p(x_i | y)] = \\log p(y) + \\sum_{i} \\log p(x_i | y)\n",
    "\\end{align}\n",
    "\n",
    "$p(y)$ and $p(x_i | y)$ are computed using the training set (during `fit` call).\n",
    "\n",
    "For this, we need two attributes to store\n",
    "$\\log p(y)$ and $\\log p(x_i | y)$ for different features $i$.\n",
    "\n",
    "Let's assume we're working with binary classes $\\{0, 1\\}$ and all features have discrete supports.\n",
    "Then we will store our log prior, `classes_log_probability`, as an array of shape `(2,)` that contains:\n",
    "\\begin{bmatrix}\n",
    "\\log p(y=0),\\log p(y=1)\n",
    "\\end{bmatrix}.\n",
    "\n",
    "Here, $p(y=1)$ is just the fraction of the time that y is 1 in the training set.\n",
    "\n",
    "If feature $i$ has $2$ possible values $\\{0, 1\\}$, then we want to store our log class-conditional, $\\log p(x_i | y)$, as a $ 2 \\times 2$ matrix:\n",
    "\\begin{align}\n",
    "A_i = \\begin{bmatrix}\n",
    "\\log p(x_i=0 | y=0) & \\log p(x_i=1| y=0)\\\\\n",
    "\\log p(x_i=0 | y=1) & \\log p(x_i=1 | y=1)\n",
    "\\end{bmatrix}\n",
    "\\end{align}\n",
    "\n",
    "`features_log_likelihood` should then store such matrix for each feature.\n",
    "\n",
    "We have defined $p(x_i | y)$ as :\n",
    "\\begin{align}\n",
    "p(x_i | y) = \\frac{N_{y,x_i}}{N_y}\n",
    "\\end{align}\n",
    "where $N_{y,i}$ is the number of instances where $y$ and $x_i$ occur together, and $N_y = \\sum_i N_{y,x_i}$.\n",
    "\n",
    "4.2 [2 points] Complete the method `compute_classes` and store the log prior in `classes_log_probability`\n",
    "\n",
    "4.3 [5 points] Complete the method `compute_features` by storing the matrices $A_i$ in `self.features_log_likelihood`. We need one matrix for each feature.\n",
    "\n",
    "4.4  Study the method `joint_log_likelihood`. You will need to use this to complete Naive Bayes. Note that it computes the likelihood quantities\n",
    " $[\\sum_{i} \\log p(x_i | y=0), \\sum_{i} \\log p(x_i | y=1)]$ for each observation\n",
    "\n",
    "4.5 [3 points] Complete the `predict` method"
   ]
  },
  {
   "cell_type": "code",
   "execution_count": 30,
   "metadata": {
    "deletable": false,
    "nbgrader": {
     "cell_type": "code",
     "checksum": "b6b1d4790a4db07a3e84836bc5c5e90f",
     "grade": true,
     "grade_id": "cell-6cf4206719b9c57b",
     "locked": false,
     "points": 0,
     "schema_version": 3,
     "solution": true,
     "task": false
    }
   },
   "outputs": [],
   "source": [
    "\n",
    "class NaiveBayes(object):\n",
    "    \"\"\"\n",
    "    NaiveBayes classifier for binary features and binary labels\n",
    "    \"\"\"\n",
    "\n",
    "    def __init__(self, alpha=0.0):\n",
    "        self.alpha = alpha\n",
    "        self.classes_counts = None\n",
    "        self.classes_log_probability = np.empty((2,))\n",
    "        self.features_log_likelihood = []  # list of arrays where element i store log p(X[:,i], y)\n",
    "\n",
    "    def compute_classes(self, y):\n",
    "        \"\"\"\n",
    "        Computes the log prior of binary classes and stores the result in self.classes_log_probability\n",
    "        :param y: binary labels array, shape (m,)\n",
    "        \"\"\"\n",
    "        # Workspace 4.2\n",
    "        #BEGIN \n",
    "        # code here\n",
    "        self.classes_log_probability[0] = np.log(np.count_nonzero(y == 0) / len(y))\n",
    "        self.classes_log_probability[1] = np.log(np.count_nonzero(y == 1) / len(y))\n",
    "        #END\n",
    "\n",
    "    def compute_features(self, X, y):\n",
    "        \"\"\"\n",
    "        Computes the log likelihood matrices for different features and stores them in self.features_log_likelihood\n",
    "        :param X: data matrix with binary features, shape (n_samples, n_features)\n",
    "        :param y: binary labels array, shape (n_samples,)\n",
    "        \"\"\"\n",
    "        # Workspace 4.3\n",
    "        #BEGIN \n",
    "        # code here\n",
    "        n_samples, n_features = X.shape\n",
    "        \n",
    "        X_unique, X_counts = np.unique(X, return_counts=True)\n",
    "        y_unique, y_counts = np.unique(y, return_counts=True)\n",
    "        \n",
    "        count_of_y_0 = np.count_nonzero(y == 0)\n",
    "        count_of_y_1 = np.count_nonzero(y == 1)\n",
    "        \n",
    "        for i in range(n_features):\n",
    "            Ai = np.zeros((len(X_unique), len(y_unique)))\n",
    "            \n",
    "            # 𝑝(𝑥𝑖=0|𝑦=0)\n",
    "            count_of_x_0_and_y_0 = 0\n",
    "            # 𝑝(𝑥𝑖=0|𝑦=1)            \n",
    "            count_of_x_0_and_y_1 = 0\n",
    "            # 𝑝(𝑥𝑖=1|𝑦=0)\n",
    "            count_of_x_1_and_y_0 = 0\n",
    "            # 𝑝(𝑥𝑖=1|𝑦=1)\n",
    "            count_of_x_1_and_y_1 = 0\n",
    "            \n",
    "            for index in range(n_samples):\n",
    "                if X[index, i] == 0 and y[index] == 0:\n",
    "                    count_of_x_0_and_y_0 += 1\n",
    "                if X[index, i] == 0 and y[index] == 1:\n",
    "                    count_of_x_0_and_y_1 += 1\n",
    "                if X[index, i] == 1 and y[index] == 0:\n",
    "                    count_of_x_1_and_y_0 += 1\n",
    "                if X[index, i] == 1 and y[index] == 1:\n",
    "                    count_of_x_1_and_y_1 += 1\n",
    "            \n",
    "            Ai[0, 0] = np.log(count_of_x_0_and_y_0 / count_of_y_0)\n",
    "            Ai[0, 1] = np.log(count_of_x_1_and_y_0 / count_of_y_0)\n",
    "            Ai[1, 0] = np.log(count_of_x_0_and_y_1 / count_of_y_1)\n",
    "            Ai[1, 1] = np.log(count_of_x_1_and_y_1 / count_of_y_1)\n",
    "            \n",
    "            self.features_log_likelihood.append(Ai)\n",
    "        \n",
    "        #END\n",
    "\n",
    "    def fit(self, X, y):\n",
    "        \"\"\"\n",
    "        :param X: binary np.array of shape (n_samples, n_features) [values 0 or 1]\n",
    "        :param y: corresponding binary labels of shape (n_samples,) [values 0 or 1]\n",
    "        :return: Classifier\n",
    "        \"\"\"\n",
    "        self.compute_classes(y)\n",
    "        self.compute_features(X, y)\n",
    "        return self\n",
    "\n",
    "    def joint_log_likelihood(self, X):\n",
    "        \"\"\"\n",
    "        Computes the joint log likelihood\n",
    "        :param X: binary np.array of shape (n_samples, n_features) [values 0 or 1]\n",
    "        :return: joint log likelihood array jll of shape (n_samples, 2), where jll[i] = [log p(X[i]|y=0),log p(X[i]|y=1)]\n",
    "        \"\"\"\n",
    "        joint_log_likelihood = np.zeros((X.shape[0], self.classes_log_probability.shape[0]))\n",
    "        for f in range(len(self.features_log_likelihood)):\n",
    "            joint_log_likelihood += self.features_log_likelihood[f][:, X[:, f]].T\n",
    "        return joint_log_likelihood\n",
    "\n",
    "    def predict(self, X):\n",
    "        \"\"\"\n",
    "        :param X:\n",
    "        :return:\n",
    "        \"\"\"\n",
    "\n",
    "        # Workspace 4.5\n",
    "        # TODO: Find the corresponding labels using Naive bayes logic\n",
    "        # inc y_hat = np.zeros((X.shape[0],))\n",
    "        #BEGIN \n",
    "        # code here\n",
    "        joint_log_likelihood = self.joint_log_likelihood(X)\n",
    "        y_hat = np.argmax(joint_log_likelihood, axis=1)\n",
    "        #END\n",
    "\n",
    "        return y_hat"
   ]
  },
  {
   "cell_type": "code",
   "execution_count": 31,
   "metadata": {
    "pycharm": {
     "name": "#%%\n"
    }
   },
   "outputs": [
    {
     "name": "stderr",
     "output_type": "stream",
     "text": [
      "....\n",
      "----------------------------------------------------------------------\n",
      "Ran 4 tests in 0.004s\n",
      "\n",
      "OK\n"
     ]
    },
    {
     "data": {
      "text/plain": [
       "<Figure size 432x288 with 0 Axes>"
      ]
     },
     "metadata": {},
     "output_type": "display_data"
    }
   ],
   "source": [
    "# Test cell, uncomment to run the tests\n",
    "%run -i tests naivebayes"
   ]
  },
  {
   "cell_type": "markdown",
   "metadata": {},
   "source": [
    "4.6 [5 points] Using snowing and bike or bus, transform the features and evaluate (accuracy) the NaiveBayes classifier\n",
    "on the training data. Does it outperform our baseline (of using one feature)?"
   ]
  },
  {
   "cell_type": "code",
   "execution_count": 32,
   "metadata": {
    "deletable": false,
    "nbgrader": {
     "cell_type": "code",
     "checksum": "fe23f94939a90f043de6e40a2f21b2ef",
     "grade": true,
     "grade_id": "cell-a9e29f4c293a5462",
     "locked": false,
     "points": 0,
     "schema_version": 3,
     "solution": true,
     "task": false
    }
   },
   "outputs": [
    {
     "name": "stdout",
     "output_type": "stream",
     "text": [
      "accuracy for naitve bayes classifier on the training data is 0.75\n"
     ]
    }
   ],
   "source": [
    "naive_bayes = NaiveBayes()\n",
    "# Workspace 4.6\n",
    "#TODO: Transform features to binary features, fit the classifier, report the accuracy\n",
    "#BEGIN \n",
    "# code here\n",
    "naive_bayes.fit(features, labels)\n",
    "y_hat = naive_bayes.predict(features)\n",
    "\n",
    "correct = 0\n",
    "for i in range(len(labels)):\n",
    "    if labels[i] == y_hat[i]:\n",
    "        correct += 1\n",
    "accuracy = correct / len(labels)\n",
    "\n",
    "print(\"accuracy for naitve bayes classifier on the training data is {}\".format(accuracy))\n",
    "#END"
   ]
  },
  {
   "cell_type": "markdown",
   "metadata": {},
   "source": [
    "The highest accuracy we could achieve with one feature is 0.666 when it's snowing. Whereas, the NaiveBayes classifier has accuracy of 0.75. It definitely outperforms our baseline.   \n"
   ]
  },
  {
   "cell_type": "markdown",
   "metadata": {},
   "source": [
    "**Bonus**\n",
    "\n",
    "4.7 [2 points] Use the attribute `alpha` of the NaiveBayes to convert it to smoothed NaiveBayes presented during the class.\n",
    "`alpha`defaults to 0, so editing the class should not affect NaiveBayes tests"
   ]
  },
  {
   "cell_type": "markdown",
   "metadata": {},
   "source": []
  }
 ],
 "metadata": {
  "kernelspec": {
   "display_name": "Python 3",
   "language": "python",
   "name": "python3"
  },
  "language_info": {
   "codemirror_mode": {
    "name": "ipython",
    "version": 3
   },
   "file_extension": ".py",
   "mimetype": "text/x-python",
   "name": "python",
   "nbconvert_exporter": "python",
   "pygments_lexer": "ipython3",
   "version": "3.8.8"
  }
 },
 "nbformat": 4,
 "nbformat_minor": 2
}
